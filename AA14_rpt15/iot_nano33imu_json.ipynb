{
  "nbformat": 4,
  "nbformat_minor": 0,
  "metadata": {
    "colab": {
      "provenance": []
    },
    "kernelspec": {
      "display_name": "Python 3",
      "name": "python3"
    },
    "language_info": {
      "codemirror_mode": {
        "name": "ipython",
        "version": 3
      },
      "file_extension": ".py",
      "mimetype": "text/x-python",
      "name": "python",
      "nbconvert_exporter": "python",
      "pygments_lexer": "ipython3",
      "version": "3.8.5"
    }
  },
  "cells": [
    {
      "cell_type": "markdown",
      "metadata": {
        "id": "oYht3IoGwlyU"
      },
      "source": [
        "## Pandas: access to the remote json from MongoDB\n",
        "- The json file is generated on the fly from the express server of Node.js.\n",
        "- The data stored in MongoDB are saved in the json file.\n",
        "- The IMU data are composed of nine time series; acceleration, gyroscope, and magnetic field.\n"
      ]
    },
    {
      "cell_type": "code",
      "metadata": {
        "id": "GYezm0oWwlyW"
      },
      "source": [
        "import pandas as pd\n",
        "import numpy as np\n",
        "import matplotlib.pyplot as plt\n",
        "# from matplotlib import animation, rc"
      ],
      "execution_count": 1,
      "outputs": []
    },
    {
      "cell_type": "markdown",
      "metadata": {
        "id": "1xQdk1RkeFpY"
      },
      "source": [
        "## [실시간 데이터 로드]\n",
        "- loading real-time json file from MongoDB via web\n",
        "\n",
        "- http://life21c.inje.ac.kr:3030/client_33imu_gauge.html"
      ]
    },
    {
      "cell_type": "code",
      "metadata": {
        "id": "jguBydRLwlyc",
        "colab": {
          "base_uri": "https://localhost:8080/"
        },
        "outputId": "a98ba775-ae7d-4a87-aca9-8d4a883fcadf"
      },
      "source": [
        "# loading real-time json file from MongoDB via web (CORS, port=3030)\n",
        "url=\"http://life21c.inje.ac.kr:3030/iot\"\n",
        "df=pd.read_json(url)\n",
        "print('Large IoT data was retrieved successfully from MongoDB!')"
      ],
      "execution_count": 2,
      "outputs": [
        {
          "output_type": "stream",
          "name": "stdout",
          "text": [
            "Large IoT data was retrieved successfully from MongoDB!\n"
          ]
        }
      ]
    },
    {
      "cell_type": "code",
      "source": [
        "df.head()"
      ],
      "metadata": {
        "id": "NzUlB5YECVfm",
        "outputId": "590aebfc-42a1-41be-b2ce-177158b1204a",
        "colab": {
          "base_uri": "https://localhost:8080/",
          "height": 357
        }
      },
      "execution_count": 3,
      "outputs": [
        {
          "output_type": "execute_result",
          "data": {
            "text/plain": [
              "                        _id                    date  accel_x  accel_y  \\\n",
              "0  639a7a5d2f1ab8f42ac826c8 2022-12-15 10:37:33.724     0.03    -0.01   \n",
              "1  639a7a5e2f1ab8f42ac826ca 2022-12-15 10:37:34.233     0.03    -0.01   \n",
              "2  639a7a5e2f1ab8f42ac826cc 2022-12-15 10:37:34.742     0.03    -0.01   \n",
              "3  639a7a5f2f1ab8f42ac826ce 2022-12-15 10:37:35.251     0.03    -0.01   \n",
              "4  639a7a5f2f1ab8f42ac826d0 2022-12-15 10:37:35.760     0.03    -0.01   \n",
              "\n",
              "   accel_z  gyro_x  gyro_y  gyro_z  mag_x  mag_y  mag_z  __v  \n",
              "0     0.99   -0.18   -3.54   -0.31 -12.12  16.19 -42.16    0  \n",
              "1     0.99   -0.24   -3.60   -0.24 -11.82  16.52 -41.88    0  \n",
              "2     0.99   -0.06   -3.54   -0.24 -12.05  16.16 -41.75    0  \n",
              "3     0.99   -0.24   -3.48   -0.31 -12.06  16.21 -41.61    0  \n",
              "4     0.99   -0.24   -3.54   -0.31 -12.00  16.31 -42.70    0  "
            ],
            "text/html": [
              "\n",
              "  <div id=\"df-01e4e24a-455e-4161-8d85-af9ed2946277\">\n",
              "    <div class=\"colab-df-container\">\n",
              "      <div>\n",
              "<style scoped>\n",
              "    .dataframe tbody tr th:only-of-type {\n",
              "        vertical-align: middle;\n",
              "    }\n",
              "\n",
              "    .dataframe tbody tr th {\n",
              "        vertical-align: top;\n",
              "    }\n",
              "\n",
              "    .dataframe thead th {\n",
              "        text-align: right;\n",
              "    }\n",
              "</style>\n",
              "<table border=\"1\" class=\"dataframe\">\n",
              "  <thead>\n",
              "    <tr style=\"text-align: right;\">\n",
              "      <th></th>\n",
              "      <th>_id</th>\n",
              "      <th>date</th>\n",
              "      <th>accel_x</th>\n",
              "      <th>accel_y</th>\n",
              "      <th>accel_z</th>\n",
              "      <th>gyro_x</th>\n",
              "      <th>gyro_y</th>\n",
              "      <th>gyro_z</th>\n",
              "      <th>mag_x</th>\n",
              "      <th>mag_y</th>\n",
              "      <th>mag_z</th>\n",
              "      <th>__v</th>\n",
              "    </tr>\n",
              "  </thead>\n",
              "  <tbody>\n",
              "    <tr>\n",
              "      <th>0</th>\n",
              "      <td>639a7a5d2f1ab8f42ac826c8</td>\n",
              "      <td>2022-12-15 10:37:33.724</td>\n",
              "      <td>0.03</td>\n",
              "      <td>-0.01</td>\n",
              "      <td>0.99</td>\n",
              "      <td>-0.18</td>\n",
              "      <td>-3.54</td>\n",
              "      <td>-0.31</td>\n",
              "      <td>-12.12</td>\n",
              "      <td>16.19</td>\n",
              "      <td>-42.16</td>\n",
              "      <td>0</td>\n",
              "    </tr>\n",
              "    <tr>\n",
              "      <th>1</th>\n",
              "      <td>639a7a5e2f1ab8f42ac826ca</td>\n",
              "      <td>2022-12-15 10:37:34.233</td>\n",
              "      <td>0.03</td>\n",
              "      <td>-0.01</td>\n",
              "      <td>0.99</td>\n",
              "      <td>-0.24</td>\n",
              "      <td>-3.60</td>\n",
              "      <td>-0.24</td>\n",
              "      <td>-11.82</td>\n",
              "      <td>16.52</td>\n",
              "      <td>-41.88</td>\n",
              "      <td>0</td>\n",
              "    </tr>\n",
              "    <tr>\n",
              "      <th>2</th>\n",
              "      <td>639a7a5e2f1ab8f42ac826cc</td>\n",
              "      <td>2022-12-15 10:37:34.742</td>\n",
              "      <td>0.03</td>\n",
              "      <td>-0.01</td>\n",
              "      <td>0.99</td>\n",
              "      <td>-0.06</td>\n",
              "      <td>-3.54</td>\n",
              "      <td>-0.24</td>\n",
              "      <td>-12.05</td>\n",
              "      <td>16.16</td>\n",
              "      <td>-41.75</td>\n",
              "      <td>0</td>\n",
              "    </tr>\n",
              "    <tr>\n",
              "      <th>3</th>\n",
              "      <td>639a7a5f2f1ab8f42ac826ce</td>\n",
              "      <td>2022-12-15 10:37:35.251</td>\n",
              "      <td>0.03</td>\n",
              "      <td>-0.01</td>\n",
              "      <td>0.99</td>\n",
              "      <td>-0.24</td>\n",
              "      <td>-3.48</td>\n",
              "      <td>-0.31</td>\n",
              "      <td>-12.06</td>\n",
              "      <td>16.21</td>\n",
              "      <td>-41.61</td>\n",
              "      <td>0</td>\n",
              "    </tr>\n",
              "    <tr>\n",
              "      <th>4</th>\n",
              "      <td>639a7a5f2f1ab8f42ac826d0</td>\n",
              "      <td>2022-12-15 10:37:35.760</td>\n",
              "      <td>0.03</td>\n",
              "      <td>-0.01</td>\n",
              "      <td>0.99</td>\n",
              "      <td>-0.24</td>\n",
              "      <td>-3.54</td>\n",
              "      <td>-0.31</td>\n",
              "      <td>-12.00</td>\n",
              "      <td>16.31</td>\n",
              "      <td>-42.70</td>\n",
              "      <td>0</td>\n",
              "    </tr>\n",
              "  </tbody>\n",
              "</table>\n",
              "</div>\n",
              "      <button class=\"colab-df-convert\" onclick=\"convertToInteractive('df-01e4e24a-455e-4161-8d85-af9ed2946277')\"\n",
              "              title=\"Convert this dataframe to an interactive table.\"\n",
              "              style=\"display:none;\">\n",
              "        \n",
              "  <svg xmlns=\"http://www.w3.org/2000/svg\" height=\"24px\"viewBox=\"0 0 24 24\"\n",
              "       width=\"24px\">\n",
              "    <path d=\"M0 0h24v24H0V0z\" fill=\"none\"/>\n",
              "    <path d=\"M18.56 5.44l.94 2.06.94-2.06 2.06-.94-2.06-.94-.94-2.06-.94 2.06-2.06.94zm-11 1L8.5 8.5l.94-2.06 2.06-.94-2.06-.94L8.5 2.5l-.94 2.06-2.06.94zm10 10l.94 2.06.94-2.06 2.06-.94-2.06-.94-.94-2.06-.94 2.06-2.06.94z\"/><path d=\"M17.41 7.96l-1.37-1.37c-.4-.4-.92-.59-1.43-.59-.52 0-1.04.2-1.43.59L10.3 9.45l-7.72 7.72c-.78.78-.78 2.05 0 2.83L4 21.41c.39.39.9.59 1.41.59.51 0 1.02-.2 1.41-.59l7.78-7.78 2.81-2.81c.8-.78.8-2.07 0-2.86zM5.41 20L4 18.59l7.72-7.72 1.47 1.35L5.41 20z\"/>\n",
              "  </svg>\n",
              "      </button>\n",
              "      \n",
              "  <style>\n",
              "    .colab-df-container {\n",
              "      display:flex;\n",
              "      flex-wrap:wrap;\n",
              "      gap: 12px;\n",
              "    }\n",
              "\n",
              "    .colab-df-convert {\n",
              "      background-color: #E8F0FE;\n",
              "      border: none;\n",
              "      border-radius: 50%;\n",
              "      cursor: pointer;\n",
              "      display: none;\n",
              "      fill: #1967D2;\n",
              "      height: 32px;\n",
              "      padding: 0 0 0 0;\n",
              "      width: 32px;\n",
              "    }\n",
              "\n",
              "    .colab-df-convert:hover {\n",
              "      background-color: #E2EBFA;\n",
              "      box-shadow: 0px 1px 2px rgba(60, 64, 67, 0.3), 0px 1px 3px 1px rgba(60, 64, 67, 0.15);\n",
              "      fill: #174EA6;\n",
              "    }\n",
              "\n",
              "    [theme=dark] .colab-df-convert {\n",
              "      background-color: #3B4455;\n",
              "      fill: #D2E3FC;\n",
              "    }\n",
              "\n",
              "    [theme=dark] .colab-df-convert:hover {\n",
              "      background-color: #434B5C;\n",
              "      box-shadow: 0px 1px 3px 1px rgba(0, 0, 0, 0.15);\n",
              "      filter: drop-shadow(0px 1px 2px rgba(0, 0, 0, 0.3));\n",
              "      fill: #FFFFFF;\n",
              "    }\n",
              "  </style>\n",
              "\n",
              "      <script>\n",
              "        const buttonEl =\n",
              "          document.querySelector('#df-01e4e24a-455e-4161-8d85-af9ed2946277 button.colab-df-convert');\n",
              "        buttonEl.style.display =\n",
              "          google.colab.kernel.accessAllowed ? 'block' : 'none';\n",
              "\n",
              "        async function convertToInteractive(key) {\n",
              "          const element = document.querySelector('#df-01e4e24a-455e-4161-8d85-af9ed2946277');\n",
              "          const dataTable =\n",
              "            await google.colab.kernel.invokeFunction('convertToInteractive',\n",
              "                                                     [key], {});\n",
              "          if (!dataTable) return;\n",
              "\n",
              "          const docLinkHtml = 'Like what you see? Visit the ' +\n",
              "            '<a target=\"_blank\" href=https://colab.research.google.com/notebooks/data_table.ipynb>data table notebook</a>'\n",
              "            + ' to learn more about interactive tables.';\n",
              "          element.innerHTML = '';\n",
              "          dataTable['output_type'] = 'display_data';\n",
              "          await google.colab.output.renderOutput(dataTable, element);\n",
              "          const docLink = document.createElement('div');\n",
              "          docLink.innerHTML = docLinkHtml;\n",
              "          element.appendChild(docLink);\n",
              "        }\n",
              "      </script>\n",
              "    </div>\n",
              "  </div>\n",
              "  "
            ]
          },
          "metadata": {},
          "execution_count": 3
        }
      ]
    },
    {
      "cell_type": "code",
      "metadata": {
        "colab": {
          "base_uri": "https://localhost:8080/",
          "height": 357
        },
        "id": "Qz0XxhI4wlyn",
        "outputId": "75543b2d-a0df-4792-fd71-2df66ead871a"
      },
      "source": [
        "df.tail()"
      ],
      "execution_count": 4,
      "outputs": [
        {
          "output_type": "execute_result",
          "data": {
            "text/plain": [
              "                            _id                    date  accel_x  accel_y  \\\n",
              "30296  639ab6d02eb916f8723104be 2022-12-15 14:55:28.971     0.03    -0.00   \n",
              "30297  639ab6d12eb916f8723104c0 2022-12-15 14:55:29.479     0.03    -0.01   \n",
              "30298  639ab6d12eb916f8723104c2 2022-12-15 14:55:29.988     0.03    -0.00   \n",
              "30299  639ab6d22eb916f8723104c4 2022-12-15 14:55:30.497     0.03    -0.00   \n",
              "30300  639ab6d32eb916f8723104c6 2022-12-15 14:55:31.006     0.03    -0.00   \n",
              "\n",
              "       accel_z  gyro_x  gyro_y  gyro_z  mag_x  mag_y  mag_z  __v  \n",
              "30296     0.99   -0.18   -3.54   -0.37 -11.87  -2.58 -54.47    0  \n",
              "30297     0.99   -0.31   -3.36   -0.43 -11.72  -2.42 -54.81    0  \n",
              "30298     0.99   -0.31   -3.54   -0.31 -11.57  -1.79 -53.97    0  \n",
              "30299     0.99   -0.31   -3.48   -0.37 -11.84  -2.11 -55.37    0  \n",
              "30300     0.99   -0.12   -3.11   -0.18 -11.60  -1.66 -56.32    0  "
            ],
            "text/html": [
              "\n",
              "  <div id=\"df-779be7f3-d9a7-434e-942d-cfaf48685591\">\n",
              "    <div class=\"colab-df-container\">\n",
              "      <div>\n",
              "<style scoped>\n",
              "    .dataframe tbody tr th:only-of-type {\n",
              "        vertical-align: middle;\n",
              "    }\n",
              "\n",
              "    .dataframe tbody tr th {\n",
              "        vertical-align: top;\n",
              "    }\n",
              "\n",
              "    .dataframe thead th {\n",
              "        text-align: right;\n",
              "    }\n",
              "</style>\n",
              "<table border=\"1\" class=\"dataframe\">\n",
              "  <thead>\n",
              "    <tr style=\"text-align: right;\">\n",
              "      <th></th>\n",
              "      <th>_id</th>\n",
              "      <th>date</th>\n",
              "      <th>accel_x</th>\n",
              "      <th>accel_y</th>\n",
              "      <th>accel_z</th>\n",
              "      <th>gyro_x</th>\n",
              "      <th>gyro_y</th>\n",
              "      <th>gyro_z</th>\n",
              "      <th>mag_x</th>\n",
              "      <th>mag_y</th>\n",
              "      <th>mag_z</th>\n",
              "      <th>__v</th>\n",
              "    </tr>\n",
              "  </thead>\n",
              "  <tbody>\n",
              "    <tr>\n",
              "      <th>30296</th>\n",
              "      <td>639ab6d02eb916f8723104be</td>\n",
              "      <td>2022-12-15 14:55:28.971</td>\n",
              "      <td>0.03</td>\n",
              "      <td>-0.00</td>\n",
              "      <td>0.99</td>\n",
              "      <td>-0.18</td>\n",
              "      <td>-3.54</td>\n",
              "      <td>-0.37</td>\n",
              "      <td>-11.87</td>\n",
              "      <td>-2.58</td>\n",
              "      <td>-54.47</td>\n",
              "      <td>0</td>\n",
              "    </tr>\n",
              "    <tr>\n",
              "      <th>30297</th>\n",
              "      <td>639ab6d12eb916f8723104c0</td>\n",
              "      <td>2022-12-15 14:55:29.479</td>\n",
              "      <td>0.03</td>\n",
              "      <td>-0.01</td>\n",
              "      <td>0.99</td>\n",
              "      <td>-0.31</td>\n",
              "      <td>-3.36</td>\n",
              "      <td>-0.43</td>\n",
              "      <td>-11.72</td>\n",
              "      <td>-2.42</td>\n",
              "      <td>-54.81</td>\n",
              "      <td>0</td>\n",
              "    </tr>\n",
              "    <tr>\n",
              "      <th>30298</th>\n",
              "      <td>639ab6d12eb916f8723104c2</td>\n",
              "      <td>2022-12-15 14:55:29.988</td>\n",
              "      <td>0.03</td>\n",
              "      <td>-0.00</td>\n",
              "      <td>0.99</td>\n",
              "      <td>-0.31</td>\n",
              "      <td>-3.54</td>\n",
              "      <td>-0.31</td>\n",
              "      <td>-11.57</td>\n",
              "      <td>-1.79</td>\n",
              "      <td>-53.97</td>\n",
              "      <td>0</td>\n",
              "    </tr>\n",
              "    <tr>\n",
              "      <th>30299</th>\n",
              "      <td>639ab6d22eb916f8723104c4</td>\n",
              "      <td>2022-12-15 14:55:30.497</td>\n",
              "      <td>0.03</td>\n",
              "      <td>-0.00</td>\n",
              "      <td>0.99</td>\n",
              "      <td>-0.31</td>\n",
              "      <td>-3.48</td>\n",
              "      <td>-0.37</td>\n",
              "      <td>-11.84</td>\n",
              "      <td>-2.11</td>\n",
              "      <td>-55.37</td>\n",
              "      <td>0</td>\n",
              "    </tr>\n",
              "    <tr>\n",
              "      <th>30300</th>\n",
              "      <td>639ab6d32eb916f8723104c6</td>\n",
              "      <td>2022-12-15 14:55:31.006</td>\n",
              "      <td>0.03</td>\n",
              "      <td>-0.00</td>\n",
              "      <td>0.99</td>\n",
              "      <td>-0.12</td>\n",
              "      <td>-3.11</td>\n",
              "      <td>-0.18</td>\n",
              "      <td>-11.60</td>\n",
              "      <td>-1.66</td>\n",
              "      <td>-56.32</td>\n",
              "      <td>0</td>\n",
              "    </tr>\n",
              "  </tbody>\n",
              "</table>\n",
              "</div>\n",
              "      <button class=\"colab-df-convert\" onclick=\"convertToInteractive('df-779be7f3-d9a7-434e-942d-cfaf48685591')\"\n",
              "              title=\"Convert this dataframe to an interactive table.\"\n",
              "              style=\"display:none;\">\n",
              "        \n",
              "  <svg xmlns=\"http://www.w3.org/2000/svg\" height=\"24px\"viewBox=\"0 0 24 24\"\n",
              "       width=\"24px\">\n",
              "    <path d=\"M0 0h24v24H0V0z\" fill=\"none\"/>\n",
              "    <path d=\"M18.56 5.44l.94 2.06.94-2.06 2.06-.94-2.06-.94-.94-2.06-.94 2.06-2.06.94zm-11 1L8.5 8.5l.94-2.06 2.06-.94-2.06-.94L8.5 2.5l-.94 2.06-2.06.94zm10 10l.94 2.06.94-2.06 2.06-.94-2.06-.94-.94-2.06-.94 2.06-2.06.94z\"/><path d=\"M17.41 7.96l-1.37-1.37c-.4-.4-.92-.59-1.43-.59-.52 0-1.04.2-1.43.59L10.3 9.45l-7.72 7.72c-.78.78-.78 2.05 0 2.83L4 21.41c.39.39.9.59 1.41.59.51 0 1.02-.2 1.41-.59l7.78-7.78 2.81-2.81c.8-.78.8-2.07 0-2.86zM5.41 20L4 18.59l7.72-7.72 1.47 1.35L5.41 20z\"/>\n",
              "  </svg>\n",
              "      </button>\n",
              "      \n",
              "  <style>\n",
              "    .colab-df-container {\n",
              "      display:flex;\n",
              "      flex-wrap:wrap;\n",
              "      gap: 12px;\n",
              "    }\n",
              "\n",
              "    .colab-df-convert {\n",
              "      background-color: #E8F0FE;\n",
              "      border: none;\n",
              "      border-radius: 50%;\n",
              "      cursor: pointer;\n",
              "      display: none;\n",
              "      fill: #1967D2;\n",
              "      height: 32px;\n",
              "      padding: 0 0 0 0;\n",
              "      width: 32px;\n",
              "    }\n",
              "\n",
              "    .colab-df-convert:hover {\n",
              "      background-color: #E2EBFA;\n",
              "      box-shadow: 0px 1px 2px rgba(60, 64, 67, 0.3), 0px 1px 3px 1px rgba(60, 64, 67, 0.15);\n",
              "      fill: #174EA6;\n",
              "    }\n",
              "\n",
              "    [theme=dark] .colab-df-convert {\n",
              "      background-color: #3B4455;\n",
              "      fill: #D2E3FC;\n",
              "    }\n",
              "\n",
              "    [theme=dark] .colab-df-convert:hover {\n",
              "      background-color: #434B5C;\n",
              "      box-shadow: 0px 1px 3px 1px rgba(0, 0, 0, 0.15);\n",
              "      filter: drop-shadow(0px 1px 2px rgba(0, 0, 0, 0.3));\n",
              "      fill: #FFFFFF;\n",
              "    }\n",
              "  </style>\n",
              "\n",
              "      <script>\n",
              "        const buttonEl =\n",
              "          document.querySelector('#df-779be7f3-d9a7-434e-942d-cfaf48685591 button.colab-df-convert');\n",
              "        buttonEl.style.display =\n",
              "          google.colab.kernel.accessAllowed ? 'block' : 'none';\n",
              "\n",
              "        async function convertToInteractive(key) {\n",
              "          const element = document.querySelector('#df-779be7f3-d9a7-434e-942d-cfaf48685591');\n",
              "          const dataTable =\n",
              "            await google.colab.kernel.invokeFunction('convertToInteractive',\n",
              "                                                     [key], {});\n",
              "          if (!dataTable) return;\n",
              "\n",
              "          const docLinkHtml = 'Like what you see? Visit the ' +\n",
              "            '<a target=\"_blank\" href=https://colab.research.google.com/notebooks/data_table.ipynb>data table notebook</a>'\n",
              "            + ' to learn more about interactive tables.';\n",
              "          element.innerHTML = '';\n",
              "          dataTable['output_type'] = 'display_data';\n",
              "          await google.colab.output.renderOutput(dataTable, element);\n",
              "          const docLink = document.createElement('div');\n",
              "          docLink.innerHTML = docLinkHtml;\n",
              "          element.appendChild(docLink);\n",
              "        }\n",
              "      </script>\n",
              "    </div>\n",
              "  </div>\n",
              "  "
            ]
          },
          "metadata": {},
          "execution_count": 4
        }
      ]
    },
    {
      "cell_type": "code",
      "metadata": {
        "colab": {
          "base_uri": "https://localhost:8080/"
        },
        "id": "xu5T5omfwlys",
        "outputId": "3213fb54-fb77-45bb-a4db-9020275da14b"
      },
      "source": [
        "df.shape, type(df)"
      ],
      "execution_count": 5,
      "outputs": [
        {
          "output_type": "execute_result",
          "data": {
            "text/plain": [
              "((30301, 12), pandas.core.frame.DataFrame)"
            ]
          },
          "metadata": {},
          "execution_count": 5
        }
      ]
    },
    {
      "cell_type": "code",
      "metadata": {
        "colab": {
          "base_uri": "https://localhost:8080/"
        },
        "id": "IGr_hz20Il9L",
        "outputId": "fb429253-3e31-4f2b-802d-02d38d638fcd"
      },
      "source": [
        "df['date'][:1],df['date'][-1:]"
      ],
      "execution_count": 6,
      "outputs": [
        {
          "output_type": "execute_result",
          "data": {
            "text/plain": [
              "(0   2022-12-15 10:37:33.724\n",
              " Name: date, dtype: datetime64[ns], 30300   2022-12-15 14:55:31.006\n",
              " Name: date, dtype: datetime64[ns])"
            ]
          },
          "metadata": {},
          "execution_count": 6
        }
      ]
    },
    {
      "cell_type": "code",
      "metadata": {
        "colab": {
          "base_uri": "https://localhost:8080/"
        },
        "id": "Ba7jYmgKwlyx",
        "outputId": "62c88431-88df-495b-879f-373020f49f5c"
      },
      "source": [
        "df.info()"
      ],
      "execution_count": 7,
      "outputs": [
        {
          "output_type": "stream",
          "name": "stdout",
          "text": [
            "<class 'pandas.core.frame.DataFrame'>\n",
            "RangeIndex: 30301 entries, 0 to 30300\n",
            "Data columns (total 12 columns):\n",
            " #   Column   Non-Null Count  Dtype         \n",
            "---  ------   --------------  -----         \n",
            " 0   _id      30301 non-null  object        \n",
            " 1   date     30301 non-null  datetime64[ns]\n",
            " 2   accel_x  30301 non-null  float64       \n",
            " 3   accel_y  30301 non-null  float64       \n",
            " 4   accel_z  30301 non-null  float64       \n",
            " 5   gyro_x   30301 non-null  float64       \n",
            " 6   gyro_y   30301 non-null  float64       \n",
            " 7   gyro_z   30301 non-null  float64       \n",
            " 8   mag_x    30301 non-null  float64       \n",
            " 9   mag_y    30301 non-null  float64       \n",
            " 10  mag_z    30301 non-null  float64       \n",
            " 11  __v      30301 non-null  int64         \n",
            "dtypes: datetime64[ns](1), float64(9), int64(1), object(1)\n",
            "memory usage: 2.8+ MB\n"
          ]
        }
      ]
    },
    {
      "cell_type": "code",
      "metadata": {
        "colab": {
          "base_uri": "https://localhost:8080/",
          "height": 364
        },
        "id": "6VGEIgiEydOV",
        "outputId": "c27f2989-f1cb-48e3-eeaa-7c0ee4b7d45b"
      },
      "source": [
        "df.describe()"
      ],
      "execution_count": 8,
      "outputs": [
        {
          "output_type": "execute_result",
          "data": {
            "text/plain": [
              "            accel_x       accel_y       accel_z        gyro_x        gyro_y  \\\n",
              "count  30301.000000  30301.000000  30301.000000  30301.000000  30301.000000   \n",
              "mean      -0.008589     -0.003549      0.938368     -0.018213     -3.211521   \n",
              "std        0.230596      0.156543      0.238014     45.369832     37.430926   \n",
              "min       -2.900000     -2.250000     -1.600000   -909.550000   -613.160000   \n",
              "25%        0.010000     -0.010000      0.990000     -0.310000     -3.600000   \n",
              "50%        0.030000      0.000000      0.990000     -0.240000     -3.540000   \n",
              "75%        0.030000      0.000000      0.990000     -0.180000     -3.420000   \n",
              "max        1.400000      1.680000      2.510000   1258.610000    663.150000   \n",
              "\n",
              "             gyro_z         mag_x         mag_y         mag_z      __v  \n",
              "count  30301.000000  30301.000000  30301.000000  30301.000000  30301.0  \n",
              "mean      -0.306135     -3.422666      2.284481    -50.730657      0.0  \n",
              "std       29.401756     11.832373     11.454595     15.967909      0.0  \n",
              "min     -480.350000    -47.270000    -26.550000   -103.260000      0.0  \n",
              "25%       -0.370000    -11.500000     -5.790000    -55.300000      0.0  \n",
              "50%       -0.310000     -7.600000     -1.890000    -53.710000      0.0  \n",
              "75%       -0.240000      1.460000      7.590000    -46.120000      0.0  \n",
              "max      421.870000     35.130000     45.080000     38.240000      0.0  "
            ],
            "text/html": [
              "\n",
              "  <div id=\"df-d502aa87-bc50-481a-8fd7-24bd0a227a36\">\n",
              "    <div class=\"colab-df-container\">\n",
              "      <div>\n",
              "<style scoped>\n",
              "    .dataframe tbody tr th:only-of-type {\n",
              "        vertical-align: middle;\n",
              "    }\n",
              "\n",
              "    .dataframe tbody tr th {\n",
              "        vertical-align: top;\n",
              "    }\n",
              "\n",
              "    .dataframe thead th {\n",
              "        text-align: right;\n",
              "    }\n",
              "</style>\n",
              "<table border=\"1\" class=\"dataframe\">\n",
              "  <thead>\n",
              "    <tr style=\"text-align: right;\">\n",
              "      <th></th>\n",
              "      <th>accel_x</th>\n",
              "      <th>accel_y</th>\n",
              "      <th>accel_z</th>\n",
              "      <th>gyro_x</th>\n",
              "      <th>gyro_y</th>\n",
              "      <th>gyro_z</th>\n",
              "      <th>mag_x</th>\n",
              "      <th>mag_y</th>\n",
              "      <th>mag_z</th>\n",
              "      <th>__v</th>\n",
              "    </tr>\n",
              "  </thead>\n",
              "  <tbody>\n",
              "    <tr>\n",
              "      <th>count</th>\n",
              "      <td>30301.000000</td>\n",
              "      <td>30301.000000</td>\n",
              "      <td>30301.000000</td>\n",
              "      <td>30301.000000</td>\n",
              "      <td>30301.000000</td>\n",
              "      <td>30301.000000</td>\n",
              "      <td>30301.000000</td>\n",
              "      <td>30301.000000</td>\n",
              "      <td>30301.000000</td>\n",
              "      <td>30301.0</td>\n",
              "    </tr>\n",
              "    <tr>\n",
              "      <th>mean</th>\n",
              "      <td>-0.008589</td>\n",
              "      <td>-0.003549</td>\n",
              "      <td>0.938368</td>\n",
              "      <td>-0.018213</td>\n",
              "      <td>-3.211521</td>\n",
              "      <td>-0.306135</td>\n",
              "      <td>-3.422666</td>\n",
              "      <td>2.284481</td>\n",
              "      <td>-50.730657</td>\n",
              "      <td>0.0</td>\n",
              "    </tr>\n",
              "    <tr>\n",
              "      <th>std</th>\n",
              "      <td>0.230596</td>\n",
              "      <td>0.156543</td>\n",
              "      <td>0.238014</td>\n",
              "      <td>45.369832</td>\n",
              "      <td>37.430926</td>\n",
              "      <td>29.401756</td>\n",
              "      <td>11.832373</td>\n",
              "      <td>11.454595</td>\n",
              "      <td>15.967909</td>\n",
              "      <td>0.0</td>\n",
              "    </tr>\n",
              "    <tr>\n",
              "      <th>min</th>\n",
              "      <td>-2.900000</td>\n",
              "      <td>-2.250000</td>\n",
              "      <td>-1.600000</td>\n",
              "      <td>-909.550000</td>\n",
              "      <td>-613.160000</td>\n",
              "      <td>-480.350000</td>\n",
              "      <td>-47.270000</td>\n",
              "      <td>-26.550000</td>\n",
              "      <td>-103.260000</td>\n",
              "      <td>0.0</td>\n",
              "    </tr>\n",
              "    <tr>\n",
              "      <th>25%</th>\n",
              "      <td>0.010000</td>\n",
              "      <td>-0.010000</td>\n",
              "      <td>0.990000</td>\n",
              "      <td>-0.310000</td>\n",
              "      <td>-3.600000</td>\n",
              "      <td>-0.370000</td>\n",
              "      <td>-11.500000</td>\n",
              "      <td>-5.790000</td>\n",
              "      <td>-55.300000</td>\n",
              "      <td>0.0</td>\n",
              "    </tr>\n",
              "    <tr>\n",
              "      <th>50%</th>\n",
              "      <td>0.030000</td>\n",
              "      <td>0.000000</td>\n",
              "      <td>0.990000</td>\n",
              "      <td>-0.240000</td>\n",
              "      <td>-3.540000</td>\n",
              "      <td>-0.310000</td>\n",
              "      <td>-7.600000</td>\n",
              "      <td>-1.890000</td>\n",
              "      <td>-53.710000</td>\n",
              "      <td>0.0</td>\n",
              "    </tr>\n",
              "    <tr>\n",
              "      <th>75%</th>\n",
              "      <td>0.030000</td>\n",
              "      <td>0.000000</td>\n",
              "      <td>0.990000</td>\n",
              "      <td>-0.180000</td>\n",
              "      <td>-3.420000</td>\n",
              "      <td>-0.240000</td>\n",
              "      <td>1.460000</td>\n",
              "      <td>7.590000</td>\n",
              "      <td>-46.120000</td>\n",
              "      <td>0.0</td>\n",
              "    </tr>\n",
              "    <tr>\n",
              "      <th>max</th>\n",
              "      <td>1.400000</td>\n",
              "      <td>1.680000</td>\n",
              "      <td>2.510000</td>\n",
              "      <td>1258.610000</td>\n",
              "      <td>663.150000</td>\n",
              "      <td>421.870000</td>\n",
              "      <td>35.130000</td>\n",
              "      <td>45.080000</td>\n",
              "      <td>38.240000</td>\n",
              "      <td>0.0</td>\n",
              "    </tr>\n",
              "  </tbody>\n",
              "</table>\n",
              "</div>\n",
              "      <button class=\"colab-df-convert\" onclick=\"convertToInteractive('df-d502aa87-bc50-481a-8fd7-24bd0a227a36')\"\n",
              "              title=\"Convert this dataframe to an interactive table.\"\n",
              "              style=\"display:none;\">\n",
              "        \n",
              "  <svg xmlns=\"http://www.w3.org/2000/svg\" height=\"24px\"viewBox=\"0 0 24 24\"\n",
              "       width=\"24px\">\n",
              "    <path d=\"M0 0h24v24H0V0z\" fill=\"none\"/>\n",
              "    <path d=\"M18.56 5.44l.94 2.06.94-2.06 2.06-.94-2.06-.94-.94-2.06-.94 2.06-2.06.94zm-11 1L8.5 8.5l.94-2.06 2.06-.94-2.06-.94L8.5 2.5l-.94 2.06-2.06.94zm10 10l.94 2.06.94-2.06 2.06-.94-2.06-.94-.94-2.06-.94 2.06-2.06.94z\"/><path d=\"M17.41 7.96l-1.37-1.37c-.4-.4-.92-.59-1.43-.59-.52 0-1.04.2-1.43.59L10.3 9.45l-7.72 7.72c-.78.78-.78 2.05 0 2.83L4 21.41c.39.39.9.59 1.41.59.51 0 1.02-.2 1.41-.59l7.78-7.78 2.81-2.81c.8-.78.8-2.07 0-2.86zM5.41 20L4 18.59l7.72-7.72 1.47 1.35L5.41 20z\"/>\n",
              "  </svg>\n",
              "      </button>\n",
              "      \n",
              "  <style>\n",
              "    .colab-df-container {\n",
              "      display:flex;\n",
              "      flex-wrap:wrap;\n",
              "      gap: 12px;\n",
              "    }\n",
              "\n",
              "    .colab-df-convert {\n",
              "      background-color: #E8F0FE;\n",
              "      border: none;\n",
              "      border-radius: 50%;\n",
              "      cursor: pointer;\n",
              "      display: none;\n",
              "      fill: #1967D2;\n",
              "      height: 32px;\n",
              "      padding: 0 0 0 0;\n",
              "      width: 32px;\n",
              "    }\n",
              "\n",
              "    .colab-df-convert:hover {\n",
              "      background-color: #E2EBFA;\n",
              "      box-shadow: 0px 1px 2px rgba(60, 64, 67, 0.3), 0px 1px 3px 1px rgba(60, 64, 67, 0.15);\n",
              "      fill: #174EA6;\n",
              "    }\n",
              "\n",
              "    [theme=dark] .colab-df-convert {\n",
              "      background-color: #3B4455;\n",
              "      fill: #D2E3FC;\n",
              "    }\n",
              "\n",
              "    [theme=dark] .colab-df-convert:hover {\n",
              "      background-color: #434B5C;\n",
              "      box-shadow: 0px 1px 3px 1px rgba(0, 0, 0, 0.15);\n",
              "      filter: drop-shadow(0px 1px 2px rgba(0, 0, 0, 0.3));\n",
              "      fill: #FFFFFF;\n",
              "    }\n",
              "  </style>\n",
              "\n",
              "      <script>\n",
              "        const buttonEl =\n",
              "          document.querySelector('#df-d502aa87-bc50-481a-8fd7-24bd0a227a36 button.colab-df-convert');\n",
              "        buttonEl.style.display =\n",
              "          google.colab.kernel.accessAllowed ? 'block' : 'none';\n",
              "\n",
              "        async function convertToInteractive(key) {\n",
              "          const element = document.querySelector('#df-d502aa87-bc50-481a-8fd7-24bd0a227a36');\n",
              "          const dataTable =\n",
              "            await google.colab.kernel.invokeFunction('convertToInteractive',\n",
              "                                                     [key], {});\n",
              "          if (!dataTable) return;\n",
              "\n",
              "          const docLinkHtml = 'Like what you see? Visit the ' +\n",
              "            '<a target=\"_blank\" href=https://colab.research.google.com/notebooks/data_table.ipynb>data table notebook</a>'\n",
              "            + ' to learn more about interactive tables.';\n",
              "          element.innerHTML = '';\n",
              "          dataTable['output_type'] = 'display_data';\n",
              "          await google.colab.output.renderOutput(dataTable, element);\n",
              "          const docLink = document.createElement('div');\n",
              "          docLink.innerHTML = docLinkHtml;\n",
              "          element.appendChild(docLink);\n",
              "        }\n",
              "      </script>\n",
              "    </div>\n",
              "  </div>\n",
              "  "
            ]
          },
          "metadata": {},
          "execution_count": 8
        }
      ]
    },
    {
      "cell_type": "markdown",
      "metadata": {
        "id": "g9Z8adSvNEp_"
      },
      "source": [
        "## Check data\n",
        "- NaN\n",
        "- missing value"
      ]
    },
    {
      "cell_type": "code",
      "metadata": {
        "colab": {
          "base_uri": "https://localhost:8080/"
        },
        "id": "c35w4k5fNJRI",
        "outputId": "02bdd4ae-a16a-439a-ab14-fb25d76ce417"
      },
      "source": [
        "df.isnull().sum() #/df.shape[0]*100"
      ],
      "execution_count": 9,
      "outputs": [
        {
          "output_type": "execute_result",
          "data": {
            "text/plain": [
              "_id        0\n",
              "date       0\n",
              "accel_x    0\n",
              "accel_y    0\n",
              "accel_z    0\n",
              "gyro_x     0\n",
              "gyro_y     0\n",
              "gyro_z     0\n",
              "mag_x      0\n",
              "mag_y      0\n",
              "mag_z      0\n",
              "__v        0\n",
              "dtype: int64"
            ]
          },
          "metadata": {},
          "execution_count": 9
        }
      ]
    },
    {
      "cell_type": "code",
      "metadata": {
        "colab": {
          "base_uri": "https://localhost:8080/"
        },
        "id": "V6txumYNbERU",
        "outputId": "54e41a7b-4781-4dbd-9b7f-67bc3ae2e93e"
      },
      "source": [
        "df.isna().sum()"
      ],
      "execution_count": 10,
      "outputs": [
        {
          "output_type": "execute_result",
          "data": {
            "text/plain": [
              "_id        0\n",
              "date       0\n",
              "accel_x    0\n",
              "accel_y    0\n",
              "accel_z    0\n",
              "gyro_x     0\n",
              "gyro_y     0\n",
              "gyro_z     0\n",
              "mag_x      0\n",
              "mag_y      0\n",
              "mag_z      0\n",
              "__v        0\n",
              "dtype: int64"
            ]
          },
          "metadata": {},
          "execution_count": 10
        }
      ]
    },
    {
      "cell_type": "markdown",
      "metadata": {
        "id": "eR-9lPsaN1ce"
      },
      "source": [
        "## Replace NaN with mean: Imputation\n",
        "- NaN ==>> mean, 33.3 (100/3)"
      ]
    },
    {
      "cell_type": "code",
      "metadata": {
        "id": "aOZec4f9Z4uB"
      },
      "source": [
        "# df=df.fillna(33.3)\n",
        "# df.isna().sum()"
      ],
      "execution_count": 11,
      "outputs": []
    },
    {
      "cell_type": "markdown",
      "metadata": {
        "id": "fMZWYEMxOmSy"
      },
      "source": [
        "## IoT data were cleaned!"
      ]
    },
    {
      "cell_type": "code",
      "source": [
        "# Save cleaned iot data in csv file.\n",
        "df.to_csv('iot33imu_data_cleaned_221215_raw.csv')"
      ],
      "metadata": {
        "id": "N6MPFoVPDKAV"
      },
      "execution_count": 12,
      "outputs": []
    },
    {
      "cell_type": "code",
      "metadata": {
        "colab": {
          "base_uri": "https://localhost:8080/",
          "height": 357
        },
        "id": "PG38R4s0pU4B",
        "outputId": "2926be43-ab1f-4c47-c484-b509f0d69a32"
      },
      "source": [
        "df.head()"
      ],
      "execution_count": 13,
      "outputs": [
        {
          "output_type": "execute_result",
          "data": {
            "text/plain": [
              "                        _id                    date  accel_x  accel_y  \\\n",
              "0  639a7a5d2f1ab8f42ac826c8 2022-12-15 10:37:33.724     0.03    -0.01   \n",
              "1  639a7a5e2f1ab8f42ac826ca 2022-12-15 10:37:34.233     0.03    -0.01   \n",
              "2  639a7a5e2f1ab8f42ac826cc 2022-12-15 10:37:34.742     0.03    -0.01   \n",
              "3  639a7a5f2f1ab8f42ac826ce 2022-12-15 10:37:35.251     0.03    -0.01   \n",
              "4  639a7a5f2f1ab8f42ac826d0 2022-12-15 10:37:35.760     0.03    -0.01   \n",
              "\n",
              "   accel_z  gyro_x  gyro_y  gyro_z  mag_x  mag_y  mag_z  __v  \n",
              "0     0.99   -0.18   -3.54   -0.31 -12.12  16.19 -42.16    0  \n",
              "1     0.99   -0.24   -3.60   -0.24 -11.82  16.52 -41.88    0  \n",
              "2     0.99   -0.06   -3.54   -0.24 -12.05  16.16 -41.75    0  \n",
              "3     0.99   -0.24   -3.48   -0.31 -12.06  16.21 -41.61    0  \n",
              "4     0.99   -0.24   -3.54   -0.31 -12.00  16.31 -42.70    0  "
            ],
            "text/html": [
              "\n",
              "  <div id=\"df-1f9c0855-95c9-428d-9ff7-f4c83c5b47ca\">\n",
              "    <div class=\"colab-df-container\">\n",
              "      <div>\n",
              "<style scoped>\n",
              "    .dataframe tbody tr th:only-of-type {\n",
              "        vertical-align: middle;\n",
              "    }\n",
              "\n",
              "    .dataframe tbody tr th {\n",
              "        vertical-align: top;\n",
              "    }\n",
              "\n",
              "    .dataframe thead th {\n",
              "        text-align: right;\n",
              "    }\n",
              "</style>\n",
              "<table border=\"1\" class=\"dataframe\">\n",
              "  <thead>\n",
              "    <tr style=\"text-align: right;\">\n",
              "      <th></th>\n",
              "      <th>_id</th>\n",
              "      <th>date</th>\n",
              "      <th>accel_x</th>\n",
              "      <th>accel_y</th>\n",
              "      <th>accel_z</th>\n",
              "      <th>gyro_x</th>\n",
              "      <th>gyro_y</th>\n",
              "      <th>gyro_z</th>\n",
              "      <th>mag_x</th>\n",
              "      <th>mag_y</th>\n",
              "      <th>mag_z</th>\n",
              "      <th>__v</th>\n",
              "    </tr>\n",
              "  </thead>\n",
              "  <tbody>\n",
              "    <tr>\n",
              "      <th>0</th>\n",
              "      <td>639a7a5d2f1ab8f42ac826c8</td>\n",
              "      <td>2022-12-15 10:37:33.724</td>\n",
              "      <td>0.03</td>\n",
              "      <td>-0.01</td>\n",
              "      <td>0.99</td>\n",
              "      <td>-0.18</td>\n",
              "      <td>-3.54</td>\n",
              "      <td>-0.31</td>\n",
              "      <td>-12.12</td>\n",
              "      <td>16.19</td>\n",
              "      <td>-42.16</td>\n",
              "      <td>0</td>\n",
              "    </tr>\n",
              "    <tr>\n",
              "      <th>1</th>\n",
              "      <td>639a7a5e2f1ab8f42ac826ca</td>\n",
              "      <td>2022-12-15 10:37:34.233</td>\n",
              "      <td>0.03</td>\n",
              "      <td>-0.01</td>\n",
              "      <td>0.99</td>\n",
              "      <td>-0.24</td>\n",
              "      <td>-3.60</td>\n",
              "      <td>-0.24</td>\n",
              "      <td>-11.82</td>\n",
              "      <td>16.52</td>\n",
              "      <td>-41.88</td>\n",
              "      <td>0</td>\n",
              "    </tr>\n",
              "    <tr>\n",
              "      <th>2</th>\n",
              "      <td>639a7a5e2f1ab8f42ac826cc</td>\n",
              "      <td>2022-12-15 10:37:34.742</td>\n",
              "      <td>0.03</td>\n",
              "      <td>-0.01</td>\n",
              "      <td>0.99</td>\n",
              "      <td>-0.06</td>\n",
              "      <td>-3.54</td>\n",
              "      <td>-0.24</td>\n",
              "      <td>-12.05</td>\n",
              "      <td>16.16</td>\n",
              "      <td>-41.75</td>\n",
              "      <td>0</td>\n",
              "    </tr>\n",
              "    <tr>\n",
              "      <th>3</th>\n",
              "      <td>639a7a5f2f1ab8f42ac826ce</td>\n",
              "      <td>2022-12-15 10:37:35.251</td>\n",
              "      <td>0.03</td>\n",
              "      <td>-0.01</td>\n",
              "      <td>0.99</td>\n",
              "      <td>-0.24</td>\n",
              "      <td>-3.48</td>\n",
              "      <td>-0.31</td>\n",
              "      <td>-12.06</td>\n",
              "      <td>16.21</td>\n",
              "      <td>-41.61</td>\n",
              "      <td>0</td>\n",
              "    </tr>\n",
              "    <tr>\n",
              "      <th>4</th>\n",
              "      <td>639a7a5f2f1ab8f42ac826d0</td>\n",
              "      <td>2022-12-15 10:37:35.760</td>\n",
              "      <td>0.03</td>\n",
              "      <td>-0.01</td>\n",
              "      <td>0.99</td>\n",
              "      <td>-0.24</td>\n",
              "      <td>-3.54</td>\n",
              "      <td>-0.31</td>\n",
              "      <td>-12.00</td>\n",
              "      <td>16.31</td>\n",
              "      <td>-42.70</td>\n",
              "      <td>0</td>\n",
              "    </tr>\n",
              "  </tbody>\n",
              "</table>\n",
              "</div>\n",
              "      <button class=\"colab-df-convert\" onclick=\"convertToInteractive('df-1f9c0855-95c9-428d-9ff7-f4c83c5b47ca')\"\n",
              "              title=\"Convert this dataframe to an interactive table.\"\n",
              "              style=\"display:none;\">\n",
              "        \n",
              "  <svg xmlns=\"http://www.w3.org/2000/svg\" height=\"24px\"viewBox=\"0 0 24 24\"\n",
              "       width=\"24px\">\n",
              "    <path d=\"M0 0h24v24H0V0z\" fill=\"none\"/>\n",
              "    <path d=\"M18.56 5.44l.94 2.06.94-2.06 2.06-.94-2.06-.94-.94-2.06-.94 2.06-2.06.94zm-11 1L8.5 8.5l.94-2.06 2.06-.94-2.06-.94L8.5 2.5l-.94 2.06-2.06.94zm10 10l.94 2.06.94-2.06 2.06-.94-2.06-.94-.94-2.06-.94 2.06-2.06.94z\"/><path d=\"M17.41 7.96l-1.37-1.37c-.4-.4-.92-.59-1.43-.59-.52 0-1.04.2-1.43.59L10.3 9.45l-7.72 7.72c-.78.78-.78 2.05 0 2.83L4 21.41c.39.39.9.59 1.41.59.51 0 1.02-.2 1.41-.59l7.78-7.78 2.81-2.81c.8-.78.8-2.07 0-2.86zM5.41 20L4 18.59l7.72-7.72 1.47 1.35L5.41 20z\"/>\n",
              "  </svg>\n",
              "      </button>\n",
              "      \n",
              "  <style>\n",
              "    .colab-df-container {\n",
              "      display:flex;\n",
              "      flex-wrap:wrap;\n",
              "      gap: 12px;\n",
              "    }\n",
              "\n",
              "    .colab-df-convert {\n",
              "      background-color: #E8F0FE;\n",
              "      border: none;\n",
              "      border-radius: 50%;\n",
              "      cursor: pointer;\n",
              "      display: none;\n",
              "      fill: #1967D2;\n",
              "      height: 32px;\n",
              "      padding: 0 0 0 0;\n",
              "      width: 32px;\n",
              "    }\n",
              "\n",
              "    .colab-df-convert:hover {\n",
              "      background-color: #E2EBFA;\n",
              "      box-shadow: 0px 1px 2px rgba(60, 64, 67, 0.3), 0px 1px 3px 1px rgba(60, 64, 67, 0.15);\n",
              "      fill: #174EA6;\n",
              "    }\n",
              "\n",
              "    [theme=dark] .colab-df-convert {\n",
              "      background-color: #3B4455;\n",
              "      fill: #D2E3FC;\n",
              "    }\n",
              "\n",
              "    [theme=dark] .colab-df-convert:hover {\n",
              "      background-color: #434B5C;\n",
              "      box-shadow: 0px 1px 3px 1px rgba(0, 0, 0, 0.15);\n",
              "      filter: drop-shadow(0px 1px 2px rgba(0, 0, 0, 0.3));\n",
              "      fill: #FFFFFF;\n",
              "    }\n",
              "  </style>\n",
              "\n",
              "      <script>\n",
              "        const buttonEl =\n",
              "          document.querySelector('#df-1f9c0855-95c9-428d-9ff7-f4c83c5b47ca button.colab-df-convert');\n",
              "        buttonEl.style.display =\n",
              "          google.colab.kernel.accessAllowed ? 'block' : 'none';\n",
              "\n",
              "        async function convertToInteractive(key) {\n",
              "          const element = document.querySelector('#df-1f9c0855-95c9-428d-9ff7-f4c83c5b47ca');\n",
              "          const dataTable =\n",
              "            await google.colab.kernel.invokeFunction('convertToInteractive',\n",
              "                                                     [key], {});\n",
              "          if (!dataTable) return;\n",
              "\n",
              "          const docLinkHtml = 'Like what you see? Visit the ' +\n",
              "            '<a target=\"_blank\" href=https://colab.research.google.com/notebooks/data_table.ipynb>data table notebook</a>'\n",
              "            + ' to learn more about interactive tables.';\n",
              "          element.innerHTML = '';\n",
              "          dataTable['output_type'] = 'display_data';\n",
              "          await google.colab.output.renderOutput(dataTable, element);\n",
              "          const docLink = document.createElement('div');\n",
              "          docLink.innerHTML = docLinkHtml;\n",
              "          element.appendChild(docLink);\n",
              "        }\n",
              "      </script>\n",
              "    </div>\n",
              "  </div>\n",
              "  "
            ]
          },
          "metadata": {},
          "execution_count": 13
        }
      ]
    },
    {
      "cell_type": "markdown",
      "metadata": {
        "id": "H5gtQbgCw62w"
      },
      "source": [
        "## New DataFrame : iot_data\n",
        "### Dataframe with date and ax,ay,az,gx,gy,gz,mx,my,mz"
      ]
    },
    {
      "cell_type": "markdown",
      "source": [
        "### [DIY-1] "
      ],
      "metadata": {
        "id": "Bk_q0zf6tuQ9"
      }
    },
    {
      "cell_type": "code",
      "metadata": {
        "id": "5VTfTsldfaGj"
      },
      "source": [
        "#  [DIY-1] select columns\n",
        "cols = ['date', 'accel_x','accel_y','accel_z','gyro_x','gyro_y','gyro_z','mag_x','mag_y','mag_z','__v']"
      ],
      "execution_count": 30,
      "outputs": []
    },
    {
      "cell_type": "code",
      "metadata": {
        "id": "wLi8PDa_wly3"
      },
      "source": [
        "# Make iot data\n",
        "iot_data = df[cols]"
      ],
      "execution_count": 31,
      "outputs": []
    },
    {
      "cell_type": "code",
      "metadata": {
        "colab": {
          "base_uri": "https://localhost:8080/"
        },
        "id": "NWW0Y_Zswly8",
        "outputId": "703cdc62-8d0a-44d7-93f4-0a22db1f22a5"
      },
      "source": [
        "iot_data.shape"
      ],
      "execution_count": 32,
      "outputs": [
        {
          "output_type": "execute_result",
          "data": {
            "text/plain": [
              "(30301, 11)"
            ]
          },
          "metadata": {},
          "execution_count": 32
        }
      ]
    },
    {
      "cell_type": "code",
      "metadata": {
        "colab": {
          "base_uri": "https://localhost:8080/",
          "height": 250
        },
        "id": "QrsngVb8wlzA",
        "outputId": "e48e3a3e-c10b-4159-e829-7a21e9c71bc1"
      },
      "source": [
        "iot_data.head()  # date와 9 개의 신호를 확인."
      ],
      "execution_count": 33,
      "outputs": [
        {
          "output_type": "execute_result",
          "data": {
            "text/plain": [
              "                     date  accel_x  accel_y  accel_z  gyro_x  gyro_y  gyro_z  \\\n",
              "0 2022-12-15 10:37:33.724     0.03    -0.01     0.99   -0.18   -3.54   -0.31   \n",
              "1 2022-12-15 10:37:34.233     0.03    -0.01     0.99   -0.24   -3.60   -0.24   \n",
              "2 2022-12-15 10:37:34.742     0.03    -0.01     0.99   -0.06   -3.54   -0.24   \n",
              "3 2022-12-15 10:37:35.251     0.03    -0.01     0.99   -0.24   -3.48   -0.31   \n",
              "4 2022-12-15 10:37:35.760     0.03    -0.01     0.99   -0.24   -3.54   -0.31   \n",
              "\n",
              "   mag_x  mag_y  mag_z  __v  \n",
              "0 -12.12  16.19 -42.16    0  \n",
              "1 -11.82  16.52 -41.88    0  \n",
              "2 -12.05  16.16 -41.75    0  \n",
              "3 -12.06  16.21 -41.61    0  \n",
              "4 -12.00  16.31 -42.70    0  "
            ],
            "text/html": [
              "\n",
              "  <div id=\"df-2f05d8e6-ec7b-4c5e-ae5a-e201f6f4a003\">\n",
              "    <div class=\"colab-df-container\">\n",
              "      <div>\n",
              "<style scoped>\n",
              "    .dataframe tbody tr th:only-of-type {\n",
              "        vertical-align: middle;\n",
              "    }\n",
              "\n",
              "    .dataframe tbody tr th {\n",
              "        vertical-align: top;\n",
              "    }\n",
              "\n",
              "    .dataframe thead th {\n",
              "        text-align: right;\n",
              "    }\n",
              "</style>\n",
              "<table border=\"1\" class=\"dataframe\">\n",
              "  <thead>\n",
              "    <tr style=\"text-align: right;\">\n",
              "      <th></th>\n",
              "      <th>date</th>\n",
              "      <th>accel_x</th>\n",
              "      <th>accel_y</th>\n",
              "      <th>accel_z</th>\n",
              "      <th>gyro_x</th>\n",
              "      <th>gyro_y</th>\n",
              "      <th>gyro_z</th>\n",
              "      <th>mag_x</th>\n",
              "      <th>mag_y</th>\n",
              "      <th>mag_z</th>\n",
              "      <th>__v</th>\n",
              "    </tr>\n",
              "  </thead>\n",
              "  <tbody>\n",
              "    <tr>\n",
              "      <th>0</th>\n",
              "      <td>2022-12-15 10:37:33.724</td>\n",
              "      <td>0.03</td>\n",
              "      <td>-0.01</td>\n",
              "      <td>0.99</td>\n",
              "      <td>-0.18</td>\n",
              "      <td>-3.54</td>\n",
              "      <td>-0.31</td>\n",
              "      <td>-12.12</td>\n",
              "      <td>16.19</td>\n",
              "      <td>-42.16</td>\n",
              "      <td>0</td>\n",
              "    </tr>\n",
              "    <tr>\n",
              "      <th>1</th>\n",
              "      <td>2022-12-15 10:37:34.233</td>\n",
              "      <td>0.03</td>\n",
              "      <td>-0.01</td>\n",
              "      <td>0.99</td>\n",
              "      <td>-0.24</td>\n",
              "      <td>-3.60</td>\n",
              "      <td>-0.24</td>\n",
              "      <td>-11.82</td>\n",
              "      <td>16.52</td>\n",
              "      <td>-41.88</td>\n",
              "      <td>0</td>\n",
              "    </tr>\n",
              "    <tr>\n",
              "      <th>2</th>\n",
              "      <td>2022-12-15 10:37:34.742</td>\n",
              "      <td>0.03</td>\n",
              "      <td>-0.01</td>\n",
              "      <td>0.99</td>\n",
              "      <td>-0.06</td>\n",
              "      <td>-3.54</td>\n",
              "      <td>-0.24</td>\n",
              "      <td>-12.05</td>\n",
              "      <td>16.16</td>\n",
              "      <td>-41.75</td>\n",
              "      <td>0</td>\n",
              "    </tr>\n",
              "    <tr>\n",
              "      <th>3</th>\n",
              "      <td>2022-12-15 10:37:35.251</td>\n",
              "      <td>0.03</td>\n",
              "      <td>-0.01</td>\n",
              "      <td>0.99</td>\n",
              "      <td>-0.24</td>\n",
              "      <td>-3.48</td>\n",
              "      <td>-0.31</td>\n",
              "      <td>-12.06</td>\n",
              "      <td>16.21</td>\n",
              "      <td>-41.61</td>\n",
              "      <td>0</td>\n",
              "    </tr>\n",
              "    <tr>\n",
              "      <th>4</th>\n",
              "      <td>2022-12-15 10:37:35.760</td>\n",
              "      <td>0.03</td>\n",
              "      <td>-0.01</td>\n",
              "      <td>0.99</td>\n",
              "      <td>-0.24</td>\n",
              "      <td>-3.54</td>\n",
              "      <td>-0.31</td>\n",
              "      <td>-12.00</td>\n",
              "      <td>16.31</td>\n",
              "      <td>-42.70</td>\n",
              "      <td>0</td>\n",
              "    </tr>\n",
              "  </tbody>\n",
              "</table>\n",
              "</div>\n",
              "      <button class=\"colab-df-convert\" onclick=\"convertToInteractive('df-2f05d8e6-ec7b-4c5e-ae5a-e201f6f4a003')\"\n",
              "              title=\"Convert this dataframe to an interactive table.\"\n",
              "              style=\"display:none;\">\n",
              "        \n",
              "  <svg xmlns=\"http://www.w3.org/2000/svg\" height=\"24px\"viewBox=\"0 0 24 24\"\n",
              "       width=\"24px\">\n",
              "    <path d=\"M0 0h24v24H0V0z\" fill=\"none\"/>\n",
              "    <path d=\"M18.56 5.44l.94 2.06.94-2.06 2.06-.94-2.06-.94-.94-2.06-.94 2.06-2.06.94zm-11 1L8.5 8.5l.94-2.06 2.06-.94-2.06-.94L8.5 2.5l-.94 2.06-2.06.94zm10 10l.94 2.06.94-2.06 2.06-.94-2.06-.94-.94-2.06-.94 2.06-2.06.94z\"/><path d=\"M17.41 7.96l-1.37-1.37c-.4-.4-.92-.59-1.43-.59-.52 0-1.04.2-1.43.59L10.3 9.45l-7.72 7.72c-.78.78-.78 2.05 0 2.83L4 21.41c.39.39.9.59 1.41.59.51 0 1.02-.2 1.41-.59l7.78-7.78 2.81-2.81c.8-.78.8-2.07 0-2.86zM5.41 20L4 18.59l7.72-7.72 1.47 1.35L5.41 20z\"/>\n",
              "  </svg>\n",
              "      </button>\n",
              "      \n",
              "  <style>\n",
              "    .colab-df-container {\n",
              "      display:flex;\n",
              "      flex-wrap:wrap;\n",
              "      gap: 12px;\n",
              "    }\n",
              "\n",
              "    .colab-df-convert {\n",
              "      background-color: #E8F0FE;\n",
              "      border: none;\n",
              "      border-radius: 50%;\n",
              "      cursor: pointer;\n",
              "      display: none;\n",
              "      fill: #1967D2;\n",
              "      height: 32px;\n",
              "      padding: 0 0 0 0;\n",
              "      width: 32px;\n",
              "    }\n",
              "\n",
              "    .colab-df-convert:hover {\n",
              "      background-color: #E2EBFA;\n",
              "      box-shadow: 0px 1px 2px rgba(60, 64, 67, 0.3), 0px 1px 3px 1px rgba(60, 64, 67, 0.15);\n",
              "      fill: #174EA6;\n",
              "    }\n",
              "\n",
              "    [theme=dark] .colab-df-convert {\n",
              "      background-color: #3B4455;\n",
              "      fill: #D2E3FC;\n",
              "    }\n",
              "\n",
              "    [theme=dark] .colab-df-convert:hover {\n",
              "      background-color: #434B5C;\n",
              "      box-shadow: 0px 1px 3px 1px rgba(0, 0, 0, 0.15);\n",
              "      filter: drop-shadow(0px 1px 2px rgba(0, 0, 0, 0.3));\n",
              "      fill: #FFFFFF;\n",
              "    }\n",
              "  </style>\n",
              "\n",
              "      <script>\n",
              "        const buttonEl =\n",
              "          document.querySelector('#df-2f05d8e6-ec7b-4c5e-ae5a-e201f6f4a003 button.colab-df-convert');\n",
              "        buttonEl.style.display =\n",
              "          google.colab.kernel.accessAllowed ? 'block' : 'none';\n",
              "\n",
              "        async function convertToInteractive(key) {\n",
              "          const element = document.querySelector('#df-2f05d8e6-ec7b-4c5e-ae5a-e201f6f4a003');\n",
              "          const dataTable =\n",
              "            await google.colab.kernel.invokeFunction('convertToInteractive',\n",
              "                                                     [key], {});\n",
              "          if (!dataTable) return;\n",
              "\n",
              "          const docLinkHtml = 'Like what you see? Visit the ' +\n",
              "            '<a target=\"_blank\" href=https://colab.research.google.com/notebooks/data_table.ipynb>data table notebook</a>'\n",
              "            + ' to learn more about interactive tables.';\n",
              "          element.innerHTML = '';\n",
              "          dataTable['output_type'] = 'display_data';\n",
              "          await google.colab.output.renderOutput(dataTable, element);\n",
              "          const docLink = document.createElement('div');\n",
              "          docLink.innerHTML = docLinkHtml;\n",
              "          element.appendChild(docLink);\n",
              "        }\n",
              "      </script>\n",
              "    </div>\n",
              "  </div>\n",
              "  "
            ]
          },
          "metadata": {},
          "execution_count": 33
        }
      ]
    },
    {
      "cell_type": "code",
      "metadata": {
        "colab": {
          "base_uri": "https://localhost:8080/"
        },
        "id": "ZI7ggvWpwlzG",
        "outputId": "0ae9ba52-ca6b-4082-e2be-199d098ff9aa"
      },
      "source": [
        "iot_data.info()"
      ],
      "execution_count": 34,
      "outputs": [
        {
          "output_type": "stream",
          "name": "stdout",
          "text": [
            "<class 'pandas.core.frame.DataFrame'>\n",
            "RangeIndex: 30301 entries, 0 to 30300\n",
            "Data columns (total 11 columns):\n",
            " #   Column   Non-Null Count  Dtype         \n",
            "---  ------   --------------  -----         \n",
            " 0   date     30301 non-null  datetime64[ns]\n",
            " 1   accel_x  30301 non-null  float64       \n",
            " 2   accel_y  30301 non-null  float64       \n",
            " 3   accel_z  30301 non-null  float64       \n",
            " 4   gyro_x   30301 non-null  float64       \n",
            " 5   gyro_y   30301 non-null  float64       \n",
            " 6   gyro_z   30301 non-null  float64       \n",
            " 7   mag_x    30301 non-null  float64       \n",
            " 8   mag_y    30301 non-null  float64       \n",
            " 9   mag_z    30301 non-null  float64       \n",
            " 10  __v      30301 non-null  int64         \n",
            "dtypes: datetime64[ns](1), float64(9), int64(1)\n",
            "memory usage: 2.5 MB\n"
          ]
        }
      ]
    },
    {
      "cell_type": "code",
      "metadata": {
        "colab": {
          "base_uri": "https://localhost:8080/"
        },
        "id": "YlYSuLHMdX3_",
        "outputId": "5d1e2cab-2d8c-46d0-dd7a-fda7c173f16a"
      },
      "source": [
        "iot_data.isna().sum()"
      ],
      "execution_count": 35,
      "outputs": [
        {
          "output_type": "execute_result",
          "data": {
            "text/plain": [
              "date       0\n",
              "accel_x    0\n",
              "accel_y    0\n",
              "accel_z    0\n",
              "gyro_x     0\n",
              "gyro_y     0\n",
              "gyro_z     0\n",
              "mag_x      0\n",
              "mag_y      0\n",
              "mag_z      0\n",
              "__v        0\n",
              "dtype: int64"
            ]
          },
          "metadata": {},
          "execution_count": 35
        }
      ]
    },
    {
      "cell_type": "code",
      "metadata": {
        "id": "sKH2MLA7lxjh"
      },
      "source": [
        "# Save iot data in csv file.\n",
        "iot_data.to_csv('iot_nano33imu_221215.csv')"
      ],
      "execution_count": 36,
      "outputs": []
    },
    {
      "cell_type": "markdown",
      "metadata": {
        "id": "tqGuXzIPfYbZ"
      },
      "source": [
        "## EDA (Exploratory Data Analysis, 탐색적 자료 분석) "
      ]
    },
    {
      "cell_type": "code",
      "metadata": {
        "colab": {
          "base_uri": "https://localhost:8080/",
          "height": 309
        },
        "id": "2QB6w7uvuN6R",
        "outputId": "efafa3fb-1cad-45a1-9585-3fdc5ba1636e"
      },
      "source": [
        "# Plot boxplot\n",
        "iot_data.iloc[:,1:].plot.box(title='Boxplot of all signals')\n",
        "plt.xticks(rotation=60)\n",
        "plt.show()"
      ],
      "execution_count": 37,
      "outputs": [
        {
          "output_type": "display_data",
          "data": {
            "text/plain": [
              "<Figure size 432x288 with 1 Axes>"
            ],
            "image/png": "[encoded data removed]"
          },
          "metadata": {
            "needs_background": "light"
          }
        }
      ]
    },
    {
      "cell_type": "markdown",
      "metadata": {
        "id": "feFqm_ocxRjV"
      },
      "source": [
        "### Plot time series of sensor data"
      ]
    },
    {
      "cell_type": "code",
      "metadata": {
        "colab": {
          "base_uri": "https://localhost:8080/",
          "height": 357
        },
        "id": "AM_CyVjawlzM",
        "outputId": "f234ca22-cd55-4bf3-e161-fa1e6710055f"
      },
      "source": [
        "iot_data.plot(x='date', y='accel_x', figsize=(10,5), title='Ax')\n",
        "plt.xticks(rotation=90)\n",
        "plt.show()"
      ],
      "execution_count": 38,
      "outputs": [
        {
          "output_type": "display_data",
          "data": {
            "text/plain": [
              "<Figure size 720x360 with 1 Axes>"
            ],
            "image/png": "[encoded data removed]"
          },
          "metadata": {
            "needs_background": "light"
          }
        }
      ]
    },
    {
      "cell_type": "code",
      "metadata": {
        "colab": {
          "base_uri": "https://localhost:8080/",
          "height": 357
        },
        "id": "MbaBO6uRKCjj",
        "outputId": "42f86a65-cd11-4454-9bec-1211f7fec2f3"
      },
      "source": [
        "iot_data.plot(x='date', y='gyro_x', figsize=(10,5), title='Gx')\n",
        "plt.xticks(rotation=90)\n",
        "plt.show()"
      ],
      "execution_count": 39,
      "outputs": [
        {
          "output_type": "display_data",
          "data": {
            "text/plain": [
              "<Figure size 720x360 with 1 Axes>"
            ],
            "image/png": "[encoded data removed]"
          },
          "metadata": {
            "needs_background": "light"
          }
        }
      ]
    },
    {
      "cell_type": "markdown",
      "metadata": {
        "id": "4W2OVUXZ0eKc"
      },
      "source": [
        "#### 다중그래프 (multiple graphs)"
      ]
    },
    {
      "cell_type": "code",
      "metadata": {
        "colab": {
          "base_uri": "https://localhost:8080/",
          "height": 362
        },
        "id": "7XiF7ghFwlzc",
        "outputId": "afe103eb-4aa5-482c-f7a8-440ba3b8fdde"
      },
      "source": [
        "# 3축 가속도를 아래에 그리시오.\n",
        "iot_data.plot(x='date', y=['accel_x','accel_y','accel_z'], figsize=(10,5), title='Ax, Ay, Az')"
      ],
      "execution_count": 40,
      "outputs": [
        {
          "output_type": "execute_result",
          "data": {
            "text/plain": [
              "<matplotlib.axes._subplots.AxesSubplot at 0x7f3f99466760>"
            ]
          },
          "metadata": {},
          "execution_count": 40
        },
        {
          "output_type": "display_data",
          "data": {
            "text/plain": [
              "<Figure size 720x360 with 1 Axes>"
            ],
            "image/png": "[encoded data removed]"
          },
          "metadata": {
            "needs_background": "light"
          }
        }
      ]
    },
    {
      "cell_type": "markdown",
      "source": [
        "### [DIY-2] "
      ],
      "metadata": {
        "id": "vTrobcQvui61"
      }
    },
    {
      "cell_type": "code",
      "metadata": {
        "colab": {
          "base_uri": "https://localhost:8080/",
          "height": 362
        },
        "outputId": "64a182d3-11ed-43ff-c88f-bf8d91947006",
        "id": "VcaWhpJKvCIr"
      },
      "source": [
        "# 3축 자이로 신호를 아래에 그리시오.\n",
        "iot_data.plot(x='date', y=['gyro_x','gyro_y','gyro_z'] , figsize=(10,5), title='Gx, Gy, Gz')"
      ],
      "execution_count": 42,
      "outputs": [
        {
          "output_type": "execute_result",
          "data": {
            "text/plain": [
              "<matplotlib.axes._subplots.AxesSubplot at 0x7f3f98838850>"
            ]
          },
          "metadata": {},
          "execution_count": 42
        },
        {
          "output_type": "display_data",
          "data": {
            "text/plain": [
              "<Figure size 720x360 with 1 Axes>"
            ],
            "image/png": "[encoded data removed]"
          },
          "metadata": {
            "needs_background": "light"
          }
        }
      ]
    },
    {
      "cell_type": "markdown",
      "source": [
        "### [DIY-3] "
      ],
      "metadata": {
        "id": "DwG4n6g-wRN4"
      }
    },
    {
      "cell_type": "code",
      "metadata": {
        "colab": {
          "base_uri": "https://localhost:8080/",
          "height": 362
        },
        "outputId": "cb88c6cf-2a9b-4f68-c513-12f884f9e9e0",
        "id": "qbZXM16Vvbcv"
      },
      "source": [
        "# Ax, Gx,Mx 신호를 아래에 그리시오.\n",
        "iot_data.plot(x='date', y=['mag_x','mag_y','mag_z'] , figsize=(10,5), title='Ax, Gx, Mx')"
      ],
      "execution_count": 43,
      "outputs": [
        {
          "output_type": "execute_result",
          "data": {
            "text/plain": [
              "<matplotlib.axes._subplots.AxesSubplot at 0x7f3f9926c9d0>"
            ]
          },
          "metadata": {},
          "execution_count": 43
        },
        {
          "output_type": "display_data",
          "data": {
            "text/plain": [
              "<Figure size 720x360 with 1 Axes>"
            ],
            "image/png": "[encoded data removed]"
          },
          "metadata": {
            "needs_background": "light"
          }
        }
      ]
    },
    {
      "cell_type": "markdown",
      "metadata": {
        "id": "6yaOaE05xthv"
      },
      "source": [
        "### Plot the mean of sensor data\n",
        "### [DIY-4] 아래 코드를 참조해서 Az,Gz,Mz의 평균을 구하고 막대 그래프로 그리시오."
      ]
    },
    {
      "cell_type": "code",
      "metadata": {
        "colab": {
          "base_uri": "https://localhost:8080/"
        },
        "id": "455qOpbbwlzp",
        "outputId": "8f33f188-73dd-46e8-b269-df73d8a8082f"
      },
      "source": [
        "iot_data[['accel_z','gyro_z','mag_z']].mean()  "
      ],
      "execution_count": 45,
      "outputs": [
        {
          "output_type": "execute_result",
          "data": {
            "text/plain": [
              "accel_z     0.938368\n",
              "gyro_z     -0.306135\n",
              "mag_z     -50.730657\n",
              "dtype: float64"
            ]
          },
          "metadata": {},
          "execution_count": 45
        }
      ]
    },
    {
      "cell_type": "code",
      "metadata": {
        "colab": {
          "base_uri": "https://localhost:8080/",
          "height": 380
        },
        "id": "26ZUc5ULwlzw",
        "outputId": "4f9071fb-0cf1-494f-92c3-2cf0912f4913"
      },
      "source": [
        "iot_data[['accel_z','gyro_z','mag_z']].mean().plot.bar(figsize=(8,5), \n",
        "                                      title=\"Mean of temperature, humidity, and luminosity\")"
      ],
      "execution_count": 46,
      "outputs": [
        {
          "output_type": "execute_result",
          "data": {
            "text/plain": [
              "<matplotlib.axes._subplots.AxesSubplot at 0x7f3f99bbf220>"
            ]
          },
          "metadata": {},
          "execution_count": 46
        },
        {
          "output_type": "display_data",
          "data": {
            "text/plain": [
              "<Figure size 576x360 with 1 Axes>"
            ],
            "image/png": "[encoded data removed]"
          },
          "metadata": {
            "needs_background": "light"
          }
        }
      ]
    },
    {
      "cell_type": "markdown",
      "metadata": {
        "id": "DwAOwL1kdEUn"
      },
      "source": [
        "# Advanced graphics using pandas"
      ]
    },
    {
      "cell_type": "markdown",
      "metadata": {
        "id": "LxgcWZ2wx6TQ"
      },
      "source": [
        "### Plot the change of sensor data over various time spans.\n",
        "\n",
        "> time span: 60 sec, 1 hour, 1 day, $\\cdots$"
      ]
    },
    {
      "cell_type": "code",
      "metadata": {
        "id": "xopxI05ggHJb",
        "colab": {
          "base_uri": "https://localhost:8080/",
          "height": 250
        },
        "outputId": "13167fb6-9de4-4da8-dd7b-61f6961114e3"
      },
      "source": [
        "iot_data.head()"
      ],
      "execution_count": 47,
      "outputs": [
        {
          "output_type": "execute_result",
          "data": {
            "text/plain": [
              "                     date  accel_x  accel_y  accel_z  gyro_x  gyro_y  gyro_z  \\\n",
              "0 2022-12-15 10:37:33.724     0.03    -0.01     0.99   -0.18   -3.54   -0.31   \n",
              "1 2022-12-15 10:37:34.233     0.03    -0.01     0.99   -0.24   -3.60   -0.24   \n",
              "2 2022-12-15 10:37:34.742     0.03    -0.01     0.99   -0.06   -3.54   -0.24   \n",
              "3 2022-12-15 10:37:35.251     0.03    -0.01     0.99   -0.24   -3.48   -0.31   \n",
              "4 2022-12-15 10:37:35.760     0.03    -0.01     0.99   -0.24   -3.54   -0.31   \n",
              "\n",
              "   mag_x  mag_y  mag_z  __v  \n",
              "0 -12.12  16.19 -42.16    0  \n",
              "1 -11.82  16.52 -41.88    0  \n",
              "2 -12.05  16.16 -41.75    0  \n",
              "3 -12.06  16.21 -41.61    0  \n",
              "4 -12.00  16.31 -42.70    0  "
            ],
            "text/html": [
              "\n",
              "  <div id=\"df-a30837f0-49d6-4d75-b2ce-a8fb0f6e0d67\">\n",
              "    <div class=\"colab-df-container\">\n",
              "      <div>\n",
              "<style scoped>\n",
              "    .dataframe tbody tr th:only-of-type {\n",
              "        vertical-align: middle;\n",
              "    }\n",
              "\n",
              "    .dataframe tbody tr th {\n",
              "        vertical-align: top;\n",
              "    }\n",
              "\n",
              "    .dataframe thead th {\n",
              "        text-align: right;\n",
              "    }\n",
              "</style>\n",
              "<table border=\"1\" class=\"dataframe\">\n",
              "  <thead>\n",
              "    <tr style=\"text-align: right;\">\n",
              "      <th></th>\n",
              "      <th>date</th>\n",
              "      <th>accel_x</th>\n",
              "      <th>accel_y</th>\n",
              "      <th>accel_z</th>\n",
              "      <th>gyro_x</th>\n",
              "      <th>gyro_y</th>\n",
              "      <th>gyro_z</th>\n",
              "      <th>mag_x</th>\n",
              "      <th>mag_y</th>\n",
              "      <th>mag_z</th>\n",
              "      <th>__v</th>\n",
              "    </tr>\n",
              "  </thead>\n",
              "  <tbody>\n",
              "    <tr>\n",
              "      <th>0</th>\n",
              "      <td>2022-12-15 10:37:33.724</td>\n",
              "      <td>0.03</td>\n",
              "      <td>-0.01</td>\n",
              "      <td>0.99</td>\n",
              "      <td>-0.18</td>\n",
              "      <td>-3.54</td>\n",
              "      <td>-0.31</td>\n",
              "      <td>-12.12</td>\n",
              "      <td>16.19</td>\n",
              "      <td>-42.16</td>\n",
              "      <td>0</td>\n",
              "    </tr>\n",
              "    <tr>\n",
              "      <th>1</th>\n",
              "      <td>2022-12-15 10:37:34.233</td>\n",
              "      <td>0.03</td>\n",
              "      <td>-0.01</td>\n",
              "      <td>0.99</td>\n",
              "      <td>-0.24</td>\n",
              "      <td>-3.60</td>\n",
              "      <td>-0.24</td>\n",
              "      <td>-11.82</td>\n",
              "      <td>16.52</td>\n",
              "      <td>-41.88</td>\n",
              "      <td>0</td>\n",
              "    </tr>\n",
              "    <tr>\n",
              "      <th>2</th>\n",
              "      <td>2022-12-15 10:37:34.742</td>\n",
              "      <td>0.03</td>\n",
              "      <td>-0.01</td>\n",
              "      <td>0.99</td>\n",
              "      <td>-0.06</td>\n",
              "      <td>-3.54</td>\n",
              "      <td>-0.24</td>\n",
              "      <td>-12.05</td>\n",
              "      <td>16.16</td>\n",
              "      <td>-41.75</td>\n",
              "      <td>0</td>\n",
              "    </tr>\n",
              "    <tr>\n",
              "      <th>3</th>\n",
              "      <td>2022-12-15 10:37:35.251</td>\n",
              "      <td>0.03</td>\n",
              "      <td>-0.01</td>\n",
              "      <td>0.99</td>\n",
              "      <td>-0.24</td>\n",
              "      <td>-3.48</td>\n",
              "      <td>-0.31</td>\n",
              "      <td>-12.06</td>\n",
              "      <td>16.21</td>\n",
              "      <td>-41.61</td>\n",
              "      <td>0</td>\n",
              "    </tr>\n",
              "    <tr>\n",
              "      <th>4</th>\n",
              "      <td>2022-12-15 10:37:35.760</td>\n",
              "      <td>0.03</td>\n",
              "      <td>-0.01</td>\n",
              "      <td>0.99</td>\n",
              "      <td>-0.24</td>\n",
              "      <td>-3.54</td>\n",
              "      <td>-0.31</td>\n",
              "      <td>-12.00</td>\n",
              "      <td>16.31</td>\n",
              "      <td>-42.70</td>\n",
              "      <td>0</td>\n",
              "    </tr>\n",
              "  </tbody>\n",
              "</table>\n",
              "</div>\n",
              "      <button class=\"colab-df-convert\" onclick=\"convertToInteractive('df-a30837f0-49d6-4d75-b2ce-a8fb0f6e0d67')\"\n",
              "              title=\"Convert this dataframe to an interactive table.\"\n",
              "              style=\"display:none;\">\n",
              "        \n",
              "  <svg xmlns=\"http://www.w3.org/2000/svg\" height=\"24px\"viewBox=\"0 0 24 24\"\n",
              "       width=\"24px\">\n",
              "    <path d=\"M0 0h24v24H0V0z\" fill=\"none\"/>\n",
              "    <path d=\"M18.56 5.44l.94 2.06.94-2.06 2.06-.94-2.06-.94-.94-2.06-.94 2.06-2.06.94zm-11 1L8.5 8.5l.94-2.06 2.06-.94-2.06-.94L8.5 2.5l-.94 2.06-2.06.94zm10 10l.94 2.06.94-2.06 2.06-.94-2.06-.94-.94-2.06-.94 2.06-2.06.94z\"/><path d=\"M17.41 7.96l-1.37-1.37c-.4-.4-.92-.59-1.43-.59-.52 0-1.04.2-1.43.59L10.3 9.45l-7.72 7.72c-.78.78-.78 2.05 0 2.83L4 21.41c.39.39.9.59 1.41.59.51 0 1.02-.2 1.41-.59l7.78-7.78 2.81-2.81c.8-.78.8-2.07 0-2.86zM5.41 20L4 18.59l7.72-7.72 1.47 1.35L5.41 20z\"/>\n",
              "  </svg>\n",
              "      </button>\n",
              "      \n",
              "  <style>\n",
              "    .colab-df-container {\n",
              "      display:flex;\n",
              "      flex-wrap:wrap;\n",
              "      gap: 12px;\n",
              "    }\n",
              "\n",
              "    .colab-df-convert {\n",
              "      background-color: #E8F0FE;\n",
              "      border: none;\n",
              "      border-radius: 50%;\n",
              "      cursor: pointer;\n",
              "      display: none;\n",
              "      fill: #1967D2;\n",
              "      height: 32px;\n",
              "      padding: 0 0 0 0;\n",
              "      width: 32px;\n",
              "    }\n",
              "\n",
              "    .colab-df-convert:hover {\n",
              "      background-color: #E2EBFA;\n",
              "      box-shadow: 0px 1px 2px rgba(60, 64, 67, 0.3), 0px 1px 3px 1px rgba(60, 64, 67, 0.15);\n",
              "      fill: #174EA6;\n",
              "    }\n",
              "\n",
              "    [theme=dark] .colab-df-convert {\n",
              "      background-color: #3B4455;\n",
              "      fill: #D2E3FC;\n",
              "    }\n",
              "\n",
              "    [theme=dark] .colab-df-convert:hover {\n",
              "      background-color: #434B5C;\n",
              "      box-shadow: 0px 1px 3px 1px rgba(0, 0, 0, 0.15);\n",
              "      filter: drop-shadow(0px 1px 2px rgba(0, 0, 0, 0.3));\n",
              "      fill: #FFFFFF;\n",
              "    }\n",
              "  </style>\n",
              "\n",
              "      <script>\n",
              "        const buttonEl =\n",
              "          document.querySelector('#df-a30837f0-49d6-4d75-b2ce-a8fb0f6e0d67 button.colab-df-convert');\n",
              "        buttonEl.style.display =\n",
              "          google.colab.kernel.accessAllowed ? 'block' : 'none';\n",
              "\n",
              "        async function convertToInteractive(key) {\n",
              "          const element = document.querySelector('#df-a30837f0-49d6-4d75-b2ce-a8fb0f6e0d67');\n",
              "          const dataTable =\n",
              "            await google.colab.kernel.invokeFunction('convertToInteractive',\n",
              "                                                     [key], {});\n",
              "          if (!dataTable) return;\n",
              "\n",
              "          const docLinkHtml = 'Like what you see? Visit the ' +\n",
              "            '<a target=\"_blank\" href=https://colab.research.google.com/notebooks/data_table.ipynb>data table notebook</a>'\n",
              "            + ' to learn more about interactive tables.';\n",
              "          element.innerHTML = '';\n",
              "          dataTable['output_type'] = 'display_data';\n",
              "          await google.colab.output.renderOutput(dataTable, element);\n",
              "          const docLink = document.createElement('div');\n",
              "          docLink.innerHTML = docLinkHtml;\n",
              "          element.appendChild(docLink);\n",
              "        }\n",
              "      </script>\n",
              "    </div>\n",
              "  </div>\n",
              "  "
            ]
          },
          "metadata": {},
          "execution_count": 47
        }
      ]
    },
    {
      "cell_type": "markdown",
      "metadata": {
        "id": "ndt4b_ZTwlz1"
      },
      "source": [
        "#### Set date as index of timestamp"
      ]
    },
    {
      "cell_type": "code",
      "metadata": {
        "id": "V6MpkrDhwlz2"
      },
      "source": [
        "iot_data.set_index('date',inplace=True)"
      ],
      "execution_count": 48,
      "outputs": []
    },
    {
      "cell_type": "code",
      "metadata": {
        "colab": {
          "base_uri": "https://localhost:8080/",
          "height": 238
        },
        "id": "w9ztE8jDUAta",
        "outputId": "9d9ff8fe-c67a-4d54-bd15-e2b28e95579b"
      },
      "source": [
        "iot_data.head()"
      ],
      "execution_count": 49,
      "outputs": [
        {
          "output_type": "execute_result",
          "data": {
            "text/plain": [
              "                         accel_x  accel_y  accel_z  gyro_x  gyro_y  gyro_z  \\\n",
              "date                                                                         \n",
              "2022-12-15 10:37:33.724     0.03    -0.01     0.99   -0.18   -3.54   -0.31   \n",
              "2022-12-15 10:37:34.233     0.03    -0.01     0.99   -0.24   -3.60   -0.24   \n",
              "2022-12-15 10:37:34.742     0.03    -0.01     0.99   -0.06   -3.54   -0.24   \n",
              "2022-12-15 10:37:35.251     0.03    -0.01     0.99   -0.24   -3.48   -0.31   \n",
              "2022-12-15 10:37:35.760     0.03    -0.01     0.99   -0.24   -3.54   -0.31   \n",
              "\n",
              "                         mag_x  mag_y  mag_z  __v  \n",
              "date                                               \n",
              "2022-12-15 10:37:33.724 -12.12  16.19 -42.16    0  \n",
              "2022-12-15 10:37:34.233 -11.82  16.52 -41.88    0  \n",
              "2022-12-15 10:37:34.742 -12.05  16.16 -41.75    0  \n",
              "2022-12-15 10:37:35.251 -12.06  16.21 -41.61    0  \n",
              "2022-12-15 10:37:35.760 -12.00  16.31 -42.70    0  "
            ],
            "text/html": [
              "\n",
              "  <div id=\"df-032aa39f-1f6a-4053-a9cc-0b841c03b646\">\n",
              "    <div class=\"colab-df-container\">\n",
              "      <div>\n",
              "<style scoped>\n",
              "    .dataframe tbody tr th:only-of-type {\n",
              "        vertical-align: middle;\n",
              "    }\n",
              "\n",
              "    .dataframe tbody tr th {\n",
              "        vertical-align: top;\n",
              "    }\n",
              "\n",
              "    .dataframe thead th {\n",
              "        text-align: right;\n",
              "    }\n",
              "</style>\n",
              "<table border=\"1\" class=\"dataframe\">\n",
              "  <thead>\n",
              "    <tr style=\"text-align: right;\">\n",
              "      <th></th>\n",
              "      <th>accel_x</th>\n",
              "      <th>accel_y</th>\n",
              "      <th>accel_z</th>\n",
              "      <th>gyro_x</th>\n",
              "      <th>gyro_y</th>\n",
              "      <th>gyro_z</th>\n",
              "      <th>mag_x</th>\n",
              "      <th>mag_y</th>\n",
              "      <th>mag_z</th>\n",
              "      <th>__v</th>\n",
              "    </tr>\n",
              "    <tr>\n",
              "      <th>date</th>\n",
              "      <th></th>\n",
              "      <th></th>\n",
              "      <th></th>\n",
              "      <th></th>\n",
              "      <th></th>\n",
              "      <th></th>\n",
              "      <th></th>\n",
              "      <th></th>\n",
              "      <th></th>\n",
              "      <th></th>\n",
              "    </tr>\n",
              "  </thead>\n",
              "  <tbody>\n",
              "    <tr>\n",
              "      <th>2022-12-15 10:37:33.724</th>\n",
              "      <td>0.03</td>\n",
              "      <td>-0.01</td>\n",
              "      <td>0.99</td>\n",
              "      <td>-0.18</td>\n",
              "      <td>-3.54</td>\n",
              "      <td>-0.31</td>\n",
              "      <td>-12.12</td>\n",
              "      <td>16.19</td>\n",
              "      <td>-42.16</td>\n",
              "      <td>0</td>\n",
              "    </tr>\n",
              "    <tr>\n",
              "      <th>2022-12-15 10:37:34.233</th>\n",
              "      <td>0.03</td>\n",
              "      <td>-0.01</td>\n",
              "      <td>0.99</td>\n",
              "      <td>-0.24</td>\n",
              "      <td>-3.60</td>\n",
              "      <td>-0.24</td>\n",
              "      <td>-11.82</td>\n",
              "      <td>16.52</td>\n",
              "      <td>-41.88</td>\n",
              "      <td>0</td>\n",
              "    </tr>\n",
              "    <tr>\n",
              "      <th>2022-12-15 10:37:34.742</th>\n",
              "      <td>0.03</td>\n",
              "      <td>-0.01</td>\n",
              "      <td>0.99</td>\n",
              "      <td>-0.06</td>\n",
              "      <td>-3.54</td>\n",
              "      <td>-0.24</td>\n",
              "      <td>-12.05</td>\n",
              "      <td>16.16</td>\n",
              "      <td>-41.75</td>\n",
              "      <td>0</td>\n",
              "    </tr>\n",
              "    <tr>\n",
              "      <th>2022-12-15 10:37:35.251</th>\n",
              "      <td>0.03</td>\n",
              "      <td>-0.01</td>\n",
              "      <td>0.99</td>\n",
              "      <td>-0.24</td>\n",
              "      <td>-3.48</td>\n",
              "      <td>-0.31</td>\n",
              "      <td>-12.06</td>\n",
              "      <td>16.21</td>\n",
              "      <td>-41.61</td>\n",
              "      <td>0</td>\n",
              "    </tr>\n",
              "    <tr>\n",
              "      <th>2022-12-15 10:37:35.760</th>\n",
              "      <td>0.03</td>\n",
              "      <td>-0.01</td>\n",
              "      <td>0.99</td>\n",
              "      <td>-0.24</td>\n",
              "      <td>-3.54</td>\n",
              "      <td>-0.31</td>\n",
              "      <td>-12.00</td>\n",
              "      <td>16.31</td>\n",
              "      <td>-42.70</td>\n",
              "      <td>0</td>\n",
              "    </tr>\n",
              "  </tbody>\n",
              "</table>\n",
              "</div>\n",
              "      <button class=\"colab-df-convert\" onclick=\"convertToInteractive('df-032aa39f-1f6a-4053-a9cc-0b841c03b646')\"\n",
              "              title=\"Convert this dataframe to an interactive table.\"\n",
              "              style=\"display:none;\">\n",
              "        \n",
              "  <svg xmlns=\"http://www.w3.org/2000/svg\" height=\"24px\"viewBox=\"0 0 24 24\"\n",
              "       width=\"24px\">\n",
              "    <path d=\"M0 0h24v24H0V0z\" fill=\"none\"/>\n",
              "    <path d=\"M18.56 5.44l.94 2.06.94-2.06 2.06-.94-2.06-.94-.94-2.06-.94 2.06-2.06.94zm-11 1L8.5 8.5l.94-2.06 2.06-.94-2.06-.94L8.5 2.5l-.94 2.06-2.06.94zm10 10l.94 2.06.94-2.06 2.06-.94-2.06-.94-.94-2.06-.94 2.06-2.06.94z\"/><path d=\"M17.41 7.96l-1.37-1.37c-.4-.4-.92-.59-1.43-.59-.52 0-1.04.2-1.43.59L10.3 9.45l-7.72 7.72c-.78.78-.78 2.05 0 2.83L4 21.41c.39.39.9.59 1.41.59.51 0 1.02-.2 1.41-.59l7.78-7.78 2.81-2.81c.8-.78.8-2.07 0-2.86zM5.41 20L4 18.59l7.72-7.72 1.47 1.35L5.41 20z\"/>\n",
              "  </svg>\n",
              "      </button>\n",
              "      \n",
              "  <style>\n",
              "    .colab-df-container {\n",
              "      display:flex;\n",
              "      flex-wrap:wrap;\n",
              "      gap: 12px;\n",
              "    }\n",
              "\n",
              "    .colab-df-convert {\n",
              "      background-color: #E8F0FE;\n",
              "      border: none;\n",
              "      border-radius: 50%;\n",
              "      cursor: pointer;\n",
              "      display: none;\n",
              "      fill: #1967D2;\n",
              "      height: 32px;\n",
              "      padding: 0 0 0 0;\n",
              "      width: 32px;\n",
              "    }\n",
              "\n",
              "    .colab-df-convert:hover {\n",
              "      background-color: #E2EBFA;\n",
              "      box-shadow: 0px 1px 2px rgba(60, 64, 67, 0.3), 0px 1px 3px 1px rgba(60, 64, 67, 0.15);\n",
              "      fill: #174EA6;\n",
              "    }\n",
              "\n",
              "    [theme=dark] .colab-df-convert {\n",
              "      background-color: #3B4455;\n",
              "      fill: #D2E3FC;\n",
              "    }\n",
              "\n",
              "    [theme=dark] .colab-df-convert:hover {\n",
              "      background-color: #434B5C;\n",
              "      box-shadow: 0px 1px 3px 1px rgba(0, 0, 0, 0.15);\n",
              "      filter: drop-shadow(0px 1px 2px rgba(0, 0, 0, 0.3));\n",
              "      fill: #FFFFFF;\n",
              "    }\n",
              "  </style>\n",
              "\n",
              "      <script>\n",
              "        const buttonEl =\n",
              "          document.querySelector('#df-032aa39f-1f6a-4053-a9cc-0b841c03b646 button.colab-df-convert');\n",
              "        buttonEl.style.display =\n",
              "          google.colab.kernel.accessAllowed ? 'block' : 'none';\n",
              "\n",
              "        async function convertToInteractive(key) {\n",
              "          const element = document.querySelector('#df-032aa39f-1f6a-4053-a9cc-0b841c03b646');\n",
              "          const dataTable =\n",
              "            await google.colab.kernel.invokeFunction('convertToInteractive',\n",
              "                                                     [key], {});\n",
              "          if (!dataTable) return;\n",
              "\n",
              "          const docLinkHtml = 'Like what you see? Visit the ' +\n",
              "            '<a target=\"_blank\" href=https://colab.research.google.com/notebooks/data_table.ipynb>data table notebook</a>'\n",
              "            + ' to learn more about interactive tables.';\n",
              "          element.innerHTML = '';\n",
              "          dataTable['output_type'] = 'display_data';\n",
              "          await google.colab.output.renderOutput(dataTable, element);\n",
              "          const docLink = document.createElement('div');\n",
              "          docLink.innerHTML = docLinkHtml;\n",
              "          element.appendChild(docLink);\n",
              "        }\n",
              "      </script>\n",
              "    </div>\n",
              "  </div>\n",
              "  "
            ]
          },
          "metadata": {},
          "execution_count": 49
        }
      ]
    },
    {
      "cell_type": "code",
      "metadata": {
        "colab": {
          "base_uri": "https://localhost:8080/"
        },
        "id": "HR2XersJUIH2",
        "outputId": "4fa87612-6756-45bf-9573-6293c54e4170"
      },
      "source": [
        "iot_data.info()"
      ],
      "execution_count": 50,
      "outputs": [
        {
          "output_type": "stream",
          "name": "stdout",
          "text": [
            "<class 'pandas.core.frame.DataFrame'>\n",
            "DatetimeIndex: 30301 entries, 2022-12-15 10:37:33.724000 to 2022-12-15 14:55:31.006000\n",
            "Data columns (total 10 columns):\n",
            " #   Column   Non-Null Count  Dtype  \n",
            "---  ------   --------------  -----  \n",
            " 0   accel_x  30301 non-null  float64\n",
            " 1   accel_y  30301 non-null  float64\n",
            " 2   accel_z  30301 non-null  float64\n",
            " 3   gyro_x   30301 non-null  float64\n",
            " 4   gyro_y   30301 non-null  float64\n",
            " 5   gyro_z   30301 non-null  float64\n",
            " 6   mag_x    30301 non-null  float64\n",
            " 7   mag_y    30301 non-null  float64\n",
            " 8   mag_z    30301 non-null  float64\n",
            " 9   __v      30301 non-null  int64  \n",
            "dtypes: float64(9), int64(1)\n",
            "memory usage: 2.5 MB\n"
          ]
        }
      ]
    },
    {
      "cell_type": "code",
      "metadata": {
        "id": "g1MtmghfiQk7"
      },
      "source": [
        "# Convert date index to Datetime index, 중요!!!\n",
        "iot_data.index = pd.to_datetime(iot_data.index)"
      ],
      "execution_count": 51,
      "outputs": []
    },
    {
      "cell_type": "code",
      "metadata": {
        "colab": {
          "base_uri": "https://localhost:8080/"
        },
        "id": "gY7QvLKbwlz5",
        "outputId": "14002b37-c402-44ac-89a8-358f83c5ee15"
      },
      "source": [
        "iot_data.info() # Range index -> timestamp(Datetime) index "
      ],
      "execution_count": 52,
      "outputs": [
        {
          "output_type": "stream",
          "name": "stdout",
          "text": [
            "<class 'pandas.core.frame.DataFrame'>\n",
            "DatetimeIndex: 30301 entries, 2022-12-15 10:37:33.724000 to 2022-12-15 14:55:31.006000\n",
            "Data columns (total 10 columns):\n",
            " #   Column   Non-Null Count  Dtype  \n",
            "---  ------   --------------  -----  \n",
            " 0   accel_x  30301 non-null  float64\n",
            " 1   accel_y  30301 non-null  float64\n",
            " 2   accel_z  30301 non-null  float64\n",
            " 3   gyro_x   30301 non-null  float64\n",
            " 4   gyro_y   30301 non-null  float64\n",
            " 5   gyro_z   30301 non-null  float64\n",
            " 6   mag_x    30301 non-null  float64\n",
            " 7   mag_y    30301 non-null  float64\n",
            " 8   mag_z    30301 non-null  float64\n",
            " 9   __v      30301 non-null  int64  \n",
            "dtypes: float64(9), int64(1)\n",
            "memory usage: 2.5 MB\n"
          ]
        }
      ]
    },
    {
      "cell_type": "code",
      "metadata": {
        "colab": {
          "base_uri": "https://localhost:8080/",
          "height": 866
        },
        "id": "TDkJgBRJwl0D",
        "outputId": "8486cccf-34d8-44cc-f7e4-6130689a13cf"
      },
      "source": [
        "# Estimate the mean of the iot data for every minute\n",
        "iot_data.resample('60S').mean()"
      ],
      "execution_count": 53,
      "outputs": [
        {
          "output_type": "execute_result",
          "data": {
            "text/plain": [
              "                      accel_x   accel_y   accel_z     gyro_x     gyro_y  \\\n",
              "date                                                                      \n",
              "2022-12-15 10:37:00  0.030000 -0.010000  0.990000  -0.209808  -3.557308   \n",
              "2022-12-15 10:38:00 -0.188898 -0.413898  0.164322  13.618898   6.464746   \n",
              "2022-12-15 10:39:00 -1.056949  0.154237  0.225932  -8.265424 -25.913983   \n",
              "2022-12-15 10:40:00 -0.502119  0.141186  0.332542  15.531525  11.551102   \n",
              "2022-12-15 10:41:00 -0.499322  0.028136  0.655424  -5.107034   5.616356   \n",
              "...                       ...       ...       ...        ...        ...   \n",
              "2022-12-15 14:51:00  0.032881 -0.002034  0.990000  -0.231017  -3.496780   \n",
              "2022-12-15 14:52:00  0.033051 -0.002288  0.990000  -0.218220  -3.486102   \n",
              "2022-12-15 14:53:00  0.034322 -0.001949  0.990000  -0.233051  -3.456864   \n",
              "2022-12-15 14:54:00  0.033814 -0.002119  0.990000  -0.241186  -3.506441   \n",
              "2022-12-15 14:55:00  0.032295 -0.002459  0.990000  -0.239672  -3.498525   \n",
              "\n",
              "                        gyro_z      mag_x      mag_y      mag_z  __v  \n",
              "date                                                                  \n",
              "2022-12-15 10:37:00  -0.279423 -11.958846  16.287692 -42.217885  0.0  \n",
              "2022-12-15 10:38:00  12.954153   2.220085  23.822458 -11.327034  0.0  \n",
              "2022-12-15 10:39:00 -26.685678 -11.120339   8.269661 -19.876525  0.0  \n",
              "2022-12-15 10:40:00 -14.099915  -4.763475  -1.187881 -22.533136  0.0  \n",
              "2022-12-15 10:41:00  -5.345508   6.075254   0.390000 -29.213475  0.0  \n",
              "...                        ...        ...        ...        ...  ...  \n",
              "2022-12-15 14:51:00  -0.285508 -11.865847  -1.868644 -55.193220  0.0  \n",
              "2022-12-15 14:52:00  -0.272203 -12.032119  -1.986017 -55.341695  0.0  \n",
              "2022-12-15 14:53:00  -0.290508 -12.093390  -2.104746 -55.431525  0.0  \n",
              "2022-12-15 14:54:00  -0.299237 -11.848390  -1.987712 -55.245763  0.0  \n",
              "2022-12-15 14:55:00  -0.286066 -11.904590  -2.160164 -55.345410  0.0  \n",
              "\n",
              "[259 rows x 10 columns]"
            ],
            "text/html": [
              "\n",
              "  <div id=\"df-7ff0d9f0-a2f8-4155-b646-a5381ae39cc2\">\n",
              "    <div class=\"colab-df-container\">\n",
              "      <div>\n",
              "<style scoped>\n",
              "    .dataframe tbody tr th:only-of-type {\n",
              "        vertical-align: middle;\n",
              "    }\n",
              "\n",
              "    .dataframe tbody tr th {\n",
              "        vertical-align: top;\n",
              "    }\n",
              "\n",
              "    .dataframe thead th {\n",
              "        text-align: right;\n",
              "    }\n",
              "</style>\n",
              "<table border=\"1\" class=\"dataframe\">\n",
              "  <thead>\n",
              "    <tr style=\"text-align: right;\">\n",
              "      <th></th>\n",
              "      <th>accel_x</th>\n",
              "      <th>accel_y</th>\n",
              "      <th>accel_z</th>\n",
              "      <th>gyro_x</th>\n",
              "      <th>gyro_y</th>\n",
              "      <th>gyro_z</th>\n",
              "      <th>mag_x</th>\n",
              "      <th>mag_y</th>\n",
              "      <th>mag_z</th>\n",
              "      <th>__v</th>\n",
              "    </tr>\n",
              "    <tr>\n",
              "      <th>date</th>\n",
              "      <th></th>\n",
              "      <th></th>\n",
              "      <th></th>\n",
              "      <th></th>\n",
              "      <th></th>\n",
              "      <th></th>\n",
              "      <th></th>\n",
              "      <th></th>\n",
              "      <th></th>\n",
              "      <th></th>\n",
              "    </tr>\n",
              "  </thead>\n",
              "  <tbody>\n",
              "    <tr>\n",
              "      <th>2022-12-15 10:37:00</th>\n",
              "      <td>0.030000</td>\n",
              "      <td>-0.010000</td>\n",
              "      <td>0.990000</td>\n",
              "      <td>-0.209808</td>\n",
              "      <td>-3.557308</td>\n",
              "      <td>-0.279423</td>\n",
              "      <td>-11.958846</td>\n",
              "      <td>16.287692</td>\n",
              "      <td>-42.217885</td>\n",
              "      <td>0.0</td>\n",
              "    </tr>\n",
              "    <tr>\n",
              "      <th>2022-12-15 10:38:00</th>\n",
              "      <td>-0.188898</td>\n",
              "      <td>-0.413898</td>\n",
              "      <td>0.164322</td>\n",
              "      <td>13.618898</td>\n",
              "      <td>6.464746</td>\n",
              "      <td>12.954153</td>\n",
              "      <td>2.220085</td>\n",
              "      <td>23.822458</td>\n",
              "      <td>-11.327034</td>\n",
              "      <td>0.0</td>\n",
              "    </tr>\n",
              "    <tr>\n",
              "      <th>2022-12-15 10:39:00</th>\n",
              "      <td>-1.056949</td>\n",
              "      <td>0.154237</td>\n",
              "      <td>0.225932</td>\n",
              "      <td>-8.265424</td>\n",
              "      <td>-25.913983</td>\n",
              "      <td>-26.685678</td>\n",
              "      <td>-11.120339</td>\n",
              "      <td>8.269661</td>\n",
              "      <td>-19.876525</td>\n",
              "      <td>0.0</td>\n",
              "    </tr>\n",
              "    <tr>\n",
              "      <th>2022-12-15 10:40:00</th>\n",
              "      <td>-0.502119</td>\n",
              "      <td>0.141186</td>\n",
              "      <td>0.332542</td>\n",
              "      <td>15.531525</td>\n",
              "      <td>11.551102</td>\n",
              "      <td>-14.099915</td>\n",
              "      <td>-4.763475</td>\n",
              "      <td>-1.187881</td>\n",
              "      <td>-22.533136</td>\n",
              "      <td>0.0</td>\n",
              "    </tr>\n",
              "    <tr>\n",
              "      <th>2022-12-15 10:41:00</th>\n",
              "      <td>-0.499322</td>\n",
              "      <td>0.028136</td>\n",
              "      <td>0.655424</td>\n",
              "      <td>-5.107034</td>\n",
              "      <td>5.616356</td>\n",
              "      <td>-5.345508</td>\n",
              "      <td>6.075254</td>\n",
              "      <td>0.390000</td>\n",
              "      <td>-29.213475</td>\n",
              "      <td>0.0</td>\n",
              "    </tr>\n",
              "    <tr>\n",
              "      <th>...</th>\n",
              "      <td>...</td>\n",
              "      <td>...</td>\n",
              "      <td>...</td>\n",
              "      <td>...</td>\n",
              "      <td>...</td>\n",
              "      <td>...</td>\n",
              "      <td>...</td>\n",
              "      <td>...</td>\n",
              "      <td>...</td>\n",
              "      <td>...</td>\n",
              "    </tr>\n",
              "    <tr>\n",
              "      <th>2022-12-15 14:51:00</th>\n",
              "      <td>0.032881</td>\n",
              "      <td>-0.002034</td>\n",
              "      <td>0.990000</td>\n",
              "      <td>-0.231017</td>\n",
              "      <td>-3.496780</td>\n",
              "      <td>-0.285508</td>\n",
              "      <td>-11.865847</td>\n",
              "      <td>-1.868644</td>\n",
              "      <td>-55.193220</td>\n",
              "      <td>0.0</td>\n",
              "    </tr>\n",
              "    <tr>\n",
              "      <th>2022-12-15 14:52:00</th>\n",
              "      <td>0.033051</td>\n",
              "      <td>-0.002288</td>\n",
              "      <td>0.990000</td>\n",
              "      <td>-0.218220</td>\n",
              "      <td>-3.486102</td>\n",
              "      <td>-0.272203</td>\n",
              "      <td>-12.032119</td>\n",
              "      <td>-1.986017</td>\n",
              "      <td>-55.341695</td>\n",
              "      <td>0.0</td>\n",
              "    </tr>\n",
              "    <tr>\n",
              "      <th>2022-12-15 14:53:00</th>\n",
              "      <td>0.034322</td>\n",
              "      <td>-0.001949</td>\n",
              "      <td>0.990000</td>\n",
              "      <td>-0.233051</td>\n",
              "      <td>-3.456864</td>\n",
              "      <td>-0.290508</td>\n",
              "      <td>-12.093390</td>\n",
              "      <td>-2.104746</td>\n",
              "      <td>-55.431525</td>\n",
              "      <td>0.0</td>\n",
              "    </tr>\n",
              "    <tr>\n",
              "      <th>2022-12-15 14:54:00</th>\n",
              "      <td>0.033814</td>\n",
              "      <td>-0.002119</td>\n",
              "      <td>0.990000</td>\n",
              "      <td>-0.241186</td>\n",
              "      <td>-3.506441</td>\n",
              "      <td>-0.299237</td>\n",
              "      <td>-11.848390</td>\n",
              "      <td>-1.987712</td>\n",
              "      <td>-55.245763</td>\n",
              "      <td>0.0</td>\n",
              "    </tr>\n",
              "    <tr>\n",
              "      <th>2022-12-15 14:55:00</th>\n",
              "      <td>0.032295</td>\n",
              "      <td>-0.002459</td>\n",
              "      <td>0.990000</td>\n",
              "      <td>-0.239672</td>\n",
              "      <td>-3.498525</td>\n",
              "      <td>-0.286066</td>\n",
              "      <td>-11.904590</td>\n",
              "      <td>-2.160164</td>\n",
              "      <td>-55.345410</td>\n",
              "      <td>0.0</td>\n",
              "    </tr>\n",
              "  </tbody>\n",
              "</table>\n",
              "<p>259 rows × 10 columns</p>\n",
              "</div>\n",
              "      <button class=\"colab-df-convert\" onclick=\"convertToInteractive('df-7ff0d9f0-a2f8-4155-b646-a5381ae39cc2')\"\n",
              "              title=\"Convert this dataframe to an interactive table.\"\n",
              "              style=\"display:none;\">\n",
              "        \n",
              "  <svg xmlns=\"http://www.w3.org/2000/svg\" height=\"24px\"viewBox=\"0 0 24 24\"\n",
              "       width=\"24px\">\n",
              "    <path d=\"M0 0h24v24H0V0z\" fill=\"none\"/>\n",
              "    <path d=\"M18.56 5.44l.94 2.06.94-2.06 2.06-.94-2.06-.94-.94-2.06-.94 2.06-2.06.94zm-11 1L8.5 8.5l.94-2.06 2.06-.94-2.06-.94L8.5 2.5l-.94 2.06-2.06.94zm10 10l.94 2.06.94-2.06 2.06-.94-2.06-.94-.94-2.06-.94 2.06-2.06.94z\"/><path d=\"M17.41 7.96l-1.37-1.37c-.4-.4-.92-.59-1.43-.59-.52 0-1.04.2-1.43.59L10.3 9.45l-7.72 7.72c-.78.78-.78 2.05 0 2.83L4 21.41c.39.39.9.59 1.41.59.51 0 1.02-.2 1.41-.59l7.78-7.78 2.81-2.81c.8-.78.8-2.07 0-2.86zM5.41 20L4 18.59l7.72-7.72 1.47 1.35L5.41 20z\"/>\n",
              "  </svg>\n",
              "      </button>\n",
              "      \n",
              "  <style>\n",
              "    .colab-df-container {\n",
              "      display:flex;\n",
              "      flex-wrap:wrap;\n",
              "      gap: 12px;\n",
              "    }\n",
              "\n",
              "    .colab-df-convert {\n",
              "      background-color: #E8F0FE;\n",
              "      border: none;\n",
              "      border-radius: 50%;\n",
              "      cursor: pointer;\n",
              "      display: none;\n",
              "      fill: #1967D2;\n",
              "      height: 32px;\n",
              "      padding: 0 0 0 0;\n",
              "      width: 32px;\n",
              "    }\n",
              "\n",
              "    .colab-df-convert:hover {\n",
              "      background-color: #E2EBFA;\n",
              "      box-shadow: 0px 1px 2px rgba(60, 64, 67, 0.3), 0px 1px 3px 1px rgba(60, 64, 67, 0.15);\n",
              "      fill: #174EA6;\n",
              "    }\n",
              "\n",
              "    [theme=dark] .colab-df-convert {\n",
              "      background-color: #3B4455;\n",
              "      fill: #D2E3FC;\n",
              "    }\n",
              "\n",
              "    [theme=dark] .colab-df-convert:hover {\n",
              "      background-color: #434B5C;\n",
              "      box-shadow: 0px 1px 3px 1px rgba(0, 0, 0, 0.15);\n",
              "      filter: drop-shadow(0px 1px 2px rgba(0, 0, 0, 0.3));\n",
              "      fill: #FFFFFF;\n",
              "    }\n",
              "  </style>\n",
              "\n",
              "      <script>\n",
              "        const buttonEl =\n",
              "          document.querySelector('#df-7ff0d9f0-a2f8-4155-b646-a5381ae39cc2 button.colab-df-convert');\n",
              "        buttonEl.style.display =\n",
              "          google.colab.kernel.accessAllowed ? 'block' : 'none';\n",
              "\n",
              "        async function convertToInteractive(key) {\n",
              "          const element = document.querySelector('#df-7ff0d9f0-a2f8-4155-b646-a5381ae39cc2');\n",
              "          const dataTable =\n",
              "            await google.colab.kernel.invokeFunction('convertToInteractive',\n",
              "                                                     [key], {});\n",
              "          if (!dataTable) return;\n",
              "\n",
              "          const docLinkHtml = 'Like what you see? Visit the ' +\n",
              "            '<a target=\"_blank\" href=https://colab.research.google.com/notebooks/data_table.ipynb>data table notebook</a>'\n",
              "            + ' to learn more about interactive tables.';\n",
              "          element.innerHTML = '';\n",
              "          dataTable['output_type'] = 'display_data';\n",
              "          await google.colab.output.renderOutput(dataTable, element);\n",
              "          const docLink = document.createElement('div');\n",
              "          docLink.innerHTML = docLinkHtml;\n",
              "          element.appendChild(docLink);\n",
              "        }\n",
              "      </script>\n",
              "    </div>\n",
              "  </div>\n",
              "  "
            ]
          },
          "metadata": {},
          "execution_count": 53
        }
      ]
    },
    {
      "cell_type": "code",
      "metadata": {
        "colab": {
          "base_uri": "https://localhost:8080/",
          "height": 423
        },
        "id": "pTaucOzzwl0H",
        "outputId": "e6185d5a-105e-47c5-aa97-123f79e6f993"
      },
      "source": [
        "#  Plot mean of the all iot data per every minute\n",
        "iot_data.resample('60S').mean().plot(figsize=(8,5), \n",
        "                                     title='Minutely change of Acc, Gyro, Mag')\n",
        "plt.legend(bbox_to_anchor=(1.02, 1.0))"
      ],
      "execution_count": 54,
      "outputs": [
        {
          "output_type": "stream",
          "name": "stderr",
          "text": [
            "/usr/local/lib/python3.8/dist-packages/pandas/plotting/_matplotlib/core.py:633: UserWarning: The handle <matplotlib.lines.Line2D object at 0x7f3f99f51ca0> has a label of '__v' which cannot be automatically added to the legend.\n",
            "  ax.legend(handles, labels, loc=\"best\", title=title)\n"
          ]
        },
        {
          "output_type": "execute_result",
          "data": {
            "text/plain": [
              "<matplotlib.legend.Legend at 0x7f3f9926dee0>"
            ]
          },
          "metadata": {},
          "execution_count": 54
        },
        {
          "output_type": "display_data",
          "data": {
            "text/plain": [
              "<Figure size 576x360 with 1 Axes>"
            ],
            "image/png": "[encoded data removed]"
          },
          "metadata": {
            "needs_background": "light"
          }
        }
      ]
    },
    {
      "cell_type": "markdown",
      "source": [
        "### [DIY-5]  아래 코드를 참조해서 Ay,Gy,My의 2분 평균값의 변화를 보여 주는 그래프를 그리시오."
      ],
      "metadata": {
        "id": "9z0suCUnyY2p"
      }
    },
    {
      "cell_type": "code",
      "metadata": {
        "colab": {
          "base_uri": "https://localhost:8080/",
          "height": 366
        },
        "id": "12Ydfv9ULNBl",
        "outputId": "6b58b98b-fc14-4f95-9cca-0fa1052cf18b"
      },
      "source": [
        "#  Plot mean of the iot data per every minute\n",
        "iot_data[['accel_y','gyro_y','mag_y']].resample('120S').mean().plot(figsize=(10,5), \n",
        "                                     title='Minutely change of R, G, B',\n",
        "                                     color=\"rgb\")"
      ],
      "execution_count": 65,
      "outputs": [
        {
          "output_type": "execute_result",
          "data": {
            "text/plain": [
              "<matplotlib.axes._subplots.AxesSubplot at 0x7f3f9a32a040>"
            ]
          },
          "metadata": {},
          "execution_count": 65
        },
        {
          "output_type": "display_data",
          "data": {
            "text/plain": [
              "<Figure size 720x360 with 1 Axes>"
            ],
            "image/png": "[encoded data removed]"
          },
          "metadata": {
            "needs_background": "light"
          }
        }
      ]
    },
    {
      "cell_type": "markdown",
      "source": [
        "### 시간 평균 변화화"
      ],
      "metadata": {
        "id": "e4BFrgsR0EUM"
      }
    },
    {
      "cell_type": "code",
      "metadata": {
        "colab": {
          "base_uri": "https://localhost:8080/",
          "height": 455
        },
        "id": "cMHVdg3awl0M",
        "outputId": "07066144-a328-4860-ea23-2633758f6ef9"
      },
      "source": [
        "# Estimate the mean of iot data for every hour\n",
        "iot_data.resample('H').mean()  # mean per each hour"
      ],
      "execution_count": 57,
      "outputs": [
        {
          "output_type": "execute_result",
          "data": {
            "text/plain": [
              "                      accel_x   accel_y   accel_z    gyro_x    gyro_y  \\\n",
              "date                                                                    \n",
              "2022-12-15 10:00:00 -0.320563  0.076382  0.579894  1.693323 -2.134076   \n",
              "2022-12-15 11:00:00  0.002012 -0.000222  0.967131 -0.238344 -3.671893   \n",
              "2022-12-15 12:00:00  0.024788 -0.005139  0.977710 -0.122556 -3.427648   \n",
              "2022-12-15 13:00:00  0.024613 -0.036221  0.957138 -0.111117 -2.655848   \n",
              "2022-12-15 14:00:00  0.034633 -0.002448  0.990002 -0.260559 -3.519936   \n",
              "\n",
              "                       gyro_z      mag_x      mag_y      mag_z  __v  \n",
              "date                                                                 \n",
              "2022-12-15 10:00:00 -3.226756  -7.121592   0.531032 -29.040688  0.0  \n",
              "2022-12-15 11:00:00 -0.307642  -7.015582  -6.014492 -45.789966  0.0  \n",
              "2022-12-15 12:00:00 -0.323146   6.402508   1.514480 -48.794594  0.0  \n",
              "2022-12-15 13:00:00  0.802740  -0.487884  15.834458 -61.563330  0.0  \n",
              "2022-12-15 14:00:00 -0.304437 -11.672277  -1.862105 -55.189121  0.0  "
            ],
            "text/html": [
              "\n",
              "  <div id=\"df-733addd8-d9ab-48cf-add4-50b8aa8a31b9\">\n",
              "    <div class=\"colab-df-container\">\n",
              "      <div>\n",
              "<style scoped>\n",
              "    .dataframe tbody tr th:only-of-type {\n",
              "        vertical-align: middle;\n",
              "    }\n",
              "\n",
              "    .dataframe tbody tr th {\n",
              "        vertical-align: top;\n",
              "    }\n",
              "\n",
              "    .dataframe thead th {\n",
              "        text-align: right;\n",
              "    }\n",
              "</style>\n",
              "<table border=\"1\" class=\"dataframe\">\n",
              "  <thead>\n",
              "    <tr style=\"text-align: right;\">\n",
              "      <th></th>\n",
              "      <th>accel_x</th>\n",
              "      <th>accel_y</th>\n",
              "      <th>accel_z</th>\n",
              "      <th>gyro_x</th>\n",
              "      <th>gyro_y</th>\n",
              "      <th>gyro_z</th>\n",
              "      <th>mag_x</th>\n",
              "      <th>mag_y</th>\n",
              "      <th>mag_z</th>\n",
              "      <th>__v</th>\n",
              "    </tr>\n",
              "    <tr>\n",
              "      <th>date</th>\n",
              "      <th></th>\n",
              "      <th></th>\n",
              "      <th></th>\n",
              "      <th></th>\n",
              "      <th></th>\n",
              "      <th></th>\n",
              "      <th></th>\n",
              "      <th></th>\n",
              "      <th></th>\n",
              "      <th></th>\n",
              "    </tr>\n",
              "  </thead>\n",
              "  <tbody>\n",
              "    <tr>\n",
              "      <th>2022-12-15 10:00:00</th>\n",
              "      <td>-0.320563</td>\n",
              "      <td>0.076382</td>\n",
              "      <td>0.579894</td>\n",
              "      <td>1.693323</td>\n",
              "      <td>-2.134076</td>\n",
              "      <td>-3.226756</td>\n",
              "      <td>-7.121592</td>\n",
              "      <td>0.531032</td>\n",
              "      <td>-29.040688</td>\n",
              "      <td>0.0</td>\n",
              "    </tr>\n",
              "    <tr>\n",
              "      <th>2022-12-15 11:00:00</th>\n",
              "      <td>0.002012</td>\n",
              "      <td>-0.000222</td>\n",
              "      <td>0.967131</td>\n",
              "      <td>-0.238344</td>\n",
              "      <td>-3.671893</td>\n",
              "      <td>-0.307642</td>\n",
              "      <td>-7.015582</td>\n",
              "      <td>-6.014492</td>\n",
              "      <td>-45.789966</td>\n",
              "      <td>0.0</td>\n",
              "    </tr>\n",
              "    <tr>\n",
              "      <th>2022-12-15 12:00:00</th>\n",
              "      <td>0.024788</td>\n",
              "      <td>-0.005139</td>\n",
              "      <td>0.977710</td>\n",
              "      <td>-0.122556</td>\n",
              "      <td>-3.427648</td>\n",
              "      <td>-0.323146</td>\n",
              "      <td>6.402508</td>\n",
              "      <td>1.514480</td>\n",
              "      <td>-48.794594</td>\n",
              "      <td>0.0</td>\n",
              "    </tr>\n",
              "    <tr>\n",
              "      <th>2022-12-15 13:00:00</th>\n",
              "      <td>0.024613</td>\n",
              "      <td>-0.036221</td>\n",
              "      <td>0.957138</td>\n",
              "      <td>-0.111117</td>\n",
              "      <td>-2.655848</td>\n",
              "      <td>0.802740</td>\n",
              "      <td>-0.487884</td>\n",
              "      <td>15.834458</td>\n",
              "      <td>-61.563330</td>\n",
              "      <td>0.0</td>\n",
              "    </tr>\n",
              "    <tr>\n",
              "      <th>2022-12-15 14:00:00</th>\n",
              "      <td>0.034633</td>\n",
              "      <td>-0.002448</td>\n",
              "      <td>0.990002</td>\n",
              "      <td>-0.260559</td>\n",
              "      <td>-3.519936</td>\n",
              "      <td>-0.304437</td>\n",
              "      <td>-11.672277</td>\n",
              "      <td>-1.862105</td>\n",
              "      <td>-55.189121</td>\n",
              "      <td>0.0</td>\n",
              "    </tr>\n",
              "  </tbody>\n",
              "</table>\n",
              "</div>\n",
              "      <button class=\"colab-df-convert\" onclick=\"convertToInteractive('df-733addd8-d9ab-48cf-add4-50b8aa8a31b9')\"\n",
              "              title=\"Convert this dataframe to an interactive table.\"\n",
              "              style=\"display:none;\">\n",
              "        \n",
              "  <svg xmlns=\"http://www.w3.org/2000/svg\" height=\"24px\"viewBox=\"0 0 24 24\"\n",
              "       width=\"24px\">\n",
              "    <path d=\"M0 0h24v24H0V0z\" fill=\"none\"/>\n",
              "    <path d=\"M18.56 5.44l.94 2.06.94-2.06 2.06-.94-2.06-.94-.94-2.06-.94 2.06-2.06.94zm-11 1L8.5 8.5l.94-2.06 2.06-.94-2.06-.94L8.5 2.5l-.94 2.06-2.06.94zm10 10l.94 2.06.94-2.06 2.06-.94-2.06-.94-.94-2.06-.94 2.06-2.06.94z\"/><path d=\"M17.41 7.96l-1.37-1.37c-.4-.4-.92-.59-1.43-.59-.52 0-1.04.2-1.43.59L10.3 9.45l-7.72 7.72c-.78.78-.78 2.05 0 2.83L4 21.41c.39.39.9.59 1.41.59.51 0 1.02-.2 1.41-.59l7.78-7.78 2.81-2.81c.8-.78.8-2.07 0-2.86zM5.41 20L4 18.59l7.72-7.72 1.47 1.35L5.41 20z\"/>\n",
              "  </svg>\n",
              "      </button>\n",
              "      \n",
              "  <style>\n",
              "    .colab-df-container {\n",
              "      display:flex;\n",
              "      flex-wrap:wrap;\n",
              "      gap: 12px;\n",
              "    }\n",
              "\n",
              "    .colab-df-convert {\n",
              "      background-color: #E8F0FE;\n",
              "      border: none;\n",
              "      border-radius: 50%;\n",
              "      cursor: pointer;\n",
              "      display: none;\n",
              "      fill: #1967D2;\n",
              "      height: 32px;\n",
              "      padding: 0 0 0 0;\n",
              "      width: 32px;\n",
              "    }\n",
              "\n",
              "    .colab-df-convert:hover {\n",
              "      background-color: #E2EBFA;\n",
              "      box-shadow: 0px 1px 2px rgba(60, 64, 67, 0.3), 0px 1px 3px 1px rgba(60, 64, 67, 0.15);\n",
              "      fill: #174EA6;\n",
              "    }\n",
              "\n",
              "    [theme=dark] .colab-df-convert {\n",
              "      background-color: #3B4455;\n",
              "      fill: #D2E3FC;\n",
              "    }\n",
              "\n",
              "    [theme=dark] .colab-df-convert:hover {\n",
              "      background-color: #434B5C;\n",
              "      box-shadow: 0px 1px 3px 1px rgba(0, 0, 0, 0.15);\n",
              "      filter: drop-shadow(0px 1px 2px rgba(0, 0, 0, 0.3));\n",
              "      fill: #FFFFFF;\n",
              "    }\n",
              "  </style>\n",
              "\n",
              "      <script>\n",
              "        const buttonEl =\n",
              "          document.querySelector('#df-733addd8-d9ab-48cf-add4-50b8aa8a31b9 button.colab-df-convert');\n",
              "        buttonEl.style.display =\n",
              "          google.colab.kernel.accessAllowed ? 'block' : 'none';\n",
              "\n",
              "        async function convertToInteractive(key) {\n",
              "          const element = document.querySelector('#df-733addd8-d9ab-48cf-add4-50b8aa8a31b9');\n",
              "          const dataTable =\n",
              "            await google.colab.kernel.invokeFunction('convertToInteractive',\n",
              "                                                     [key], {});\n",
              "          if (!dataTable) return;\n",
              "\n",
              "          const docLinkHtml = 'Like what you see? Visit the ' +\n",
              "            '<a target=\"_blank\" href=https://colab.research.google.com/notebooks/data_table.ipynb>data table notebook</a>'\n",
              "            + ' to learn more about interactive tables.';\n",
              "          element.innerHTML = '';\n",
              "          dataTable['output_type'] = 'display_data';\n",
              "          await google.colab.output.renderOutput(dataTable, element);\n",
              "          const docLink = document.createElement('div');\n",
              "          docLink.innerHTML = docLinkHtml;\n",
              "          element.appendChild(docLink);\n",
              "        }\n",
              "      </script>\n",
              "    </div>\n",
              "  </div>\n",
              "  "
            ]
          },
          "metadata": {},
          "execution_count": 57
        }
      ]
    },
    {
      "cell_type": "code",
      "metadata": {
        "colab": {
          "base_uri": "https://localhost:8080/"
        },
        "id": "44z_H8_DPqIV",
        "outputId": "24ca259b-5b05-4db6-9eab-691bf57950e8"
      },
      "source": [
        "iot_data.resample('H').mean().shape, iot_data.resample('H').mean().info()"
      ],
      "execution_count": 58,
      "outputs": [
        {
          "output_type": "stream",
          "name": "stdout",
          "text": [
            "<class 'pandas.core.frame.DataFrame'>\n",
            "DatetimeIndex: 5 entries, 2022-12-15 10:00:00 to 2022-12-15 14:00:00\n",
            "Freq: H\n",
            "Data columns (total 10 columns):\n",
            " #   Column   Non-Null Count  Dtype  \n",
            "---  ------   --------------  -----  \n",
            " 0   accel_x  5 non-null      float64\n",
            " 1   accel_y  5 non-null      float64\n",
            " 2   accel_z  5 non-null      float64\n",
            " 3   gyro_x   5 non-null      float64\n",
            " 4   gyro_y   5 non-null      float64\n",
            " 5   gyro_z   5 non-null      float64\n",
            " 6   mag_x    5 non-null      float64\n",
            " 7   mag_y    5 non-null      float64\n",
            " 8   mag_z    5 non-null      float64\n",
            " 9   __v      5 non-null      float64\n",
            "dtypes: float64(10)\n",
            "memory usage: 440.0 bytes\n"
          ]
        },
        {
          "output_type": "execute_result",
          "data": {
            "text/plain": [
              "((5, 10), None)"
            ]
          },
          "metadata": {},
          "execution_count": 58
        }
      ]
    },
    {
      "cell_type": "code",
      "metadata": {
        "colab": {
          "base_uri": "https://localhost:8080/",
          "height": 135
        },
        "id": "7zNu8qnxwl0Q",
        "outputId": "1b58da4e-21d0-4e29-ee92-d4f6085e08e6"
      },
      "source": [
        "#  Plot mean of the iot data per every hour \n",
        "iot_data.resample('H').mean().plot(figsize=(10,6), '-o'\n",
        "                                   title='Hourly change of all sensor data')\n",
        "                                ylim=[0,500])"
      ],
      "execution_count": 67,
      "outputs": [
        {
          "output_type": "error",
          "ename": "SyntaxError",
          "evalue": "ignored",
          "traceback": [
            "\u001b[0;36m  File \u001b[0;32m\"<ipython-input-67-b3e37ac3cb11>\"\u001b[0;36m, line \u001b[0;32m3\u001b[0m\n\u001b[0;31m    title='Hourly change of all sensor data')\u001b[0m\n\u001b[0m    ^\u001b[0m\n\u001b[0;31mSyntaxError\u001b[0m\u001b[0;31m:\u001b[0m invalid syntax\n"
          ]
        }
      ]
    },
    {
      "cell_type": "markdown",
      "source": [
        "### [DIY-6]  아래 코드를 참조해서 Az,Gz,Mz의 1 시간 평균값의 변화를 보여 주는 그래프를 그리시오."
      ],
      "metadata": {
        "id": "SF4Jmw4Zzy6v"
      }
    },
    {
      "cell_type": "code",
      "metadata": {
        "colab": {
          "base_uri": "https://localhost:8080/",
          "height": 422
        },
        "id": "QXDpqM0IMSho",
        "outputId": "d844ae47-e6db-4fe9-8550-33161396d978"
      },
      "source": [
        "#  Plot mean of the iot data per every minute\n",
        "iot_data[['accel_z','gyro_z','mag_z']].resample('H').mean().plot(figsize=(10,6), \n",
        "                                    color = ['red', 'green', 'blue'],\n",
        "                                    title='Hourly change of Az, Gz, Mz')"
      ],
      "execution_count": 68,
      "outputs": [
        {
          "output_type": "execute_result",
          "data": {
            "text/plain": [
              "<matplotlib.axes._subplots.AxesSubplot at 0x7f3f99e67250>"
            ]
          },
          "metadata": {},
          "execution_count": 68
        },
        {
          "output_type": "display_data",
          "data": {
            "text/plain": [
              "<Figure size 720x432 with 1 Axes>"
            ],
            "image/png": "[encoded data removed]"
          },
          "metadata": {
            "needs_background": "light"
          }
        }
      ]
    },
    {
      "cell_type": "markdown",
      "source": [
        "### Good Job!  Have a great winter vacation!!!"
      ],
      "metadata": {
        "id": "_ZgNafGZ0fsV"
      }
    },
    {
      "cell_type": "markdown",
      "source": [
        "----"
      ],
      "metadata": {
        "id": "8BcJ8Xlz0tbd"
      }
    },
    {
      "cell_type": "code",
      "source": [],
      "metadata": {
        "id": "4mmCP2TU0u1T"
      },
      "execution_count": null,
      "outputs": []
    }
  ]
}